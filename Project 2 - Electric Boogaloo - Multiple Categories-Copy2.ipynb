{
 "cells": [
  {
   "cell_type": "code",
   "execution_count": 30,
   "metadata": {},
   "outputs": [],
   "source": [
    "import numpy as np\n",
    "import pandas as pd\n",
    "import patsy\n",
    "\n",
    "from sklearn.linear_model import Ridge, Lasso, ElasticNet, LinearRegression, RidgeCV, LassoCV, ElasticNetCV, LogisticRegression\n",
    "from sklearn.model_selection import cross_val_score, train_test_split, KFold, GridSearchCV\n",
    "from sklearn.preprocessing import StandardScaler\n",
    "from sklearn.neighbors import KNeighborsClassifier\n",
    "\n",
    "import matplotlib\n",
    "import matplotlib.pyplot as plt\n",
    "import seaborn as sns\n",
    "plt.style.use('fivethirtyeight')\n",
    "\n",
    "%config InlineBackend.figure_format = 'retina'\n",
    "%matplotlib inline"
   ]
  },
  {
   "cell_type": "code",
   "execution_count": 2,
   "metadata": {},
   "outputs": [],
   "source": [
    "df = pd.read_csv('/Users/omarcarr/Desktop/Notebooks/DSI-US-5/Projects/Project-2/train.csv')\n",
    "df_test = pd.read_csv('/Users/omarcarr/Desktop/Notebooks/DSI-US-5/Projects/Project-2/test.csv')"
   ]
  },
  {
   "cell_type": "code",
   "execution_count": 3,
   "metadata": {},
   "outputs": [
    {
     "data": {
      "text/plain": [
       "(2051, 81)"
      ]
     },
     "execution_count": 3,
     "metadata": {},
     "output_type": "execute_result"
    }
   ],
   "source": [
    "df.shape"
   ]
  },
  {
   "cell_type": "code",
   "execution_count": 4,
   "metadata": {},
   "outputs": [
    {
     "name": "stdout",
     "output_type": "stream",
     "text": [
      "<class 'pandas.core.frame.DataFrame'>\n",
      "RangeIndex: 2051 entries, 0 to 2050\n",
      "Data columns (total 81 columns):\n",
      "Id                 2051 non-null int64\n",
      "PID                2051 non-null int64\n",
      "MS SubClass        2051 non-null int64\n",
      "MS Zoning          2051 non-null object\n",
      "Lot Frontage       1721 non-null float64\n",
      "Lot Area           2051 non-null int64\n",
      "Street             2051 non-null object\n",
      "Alley              140 non-null object\n",
      "Lot Shape          2051 non-null object\n",
      "Land Contour       2051 non-null object\n",
      "Utilities          2051 non-null object\n",
      "Lot Config         2051 non-null object\n",
      "Land Slope         2051 non-null object\n",
      "Neighborhood       2051 non-null object\n",
      "Condition 1        2051 non-null object\n",
      "Condition 2        2051 non-null object\n",
      "Bldg Type          2051 non-null object\n",
      "House Style        2051 non-null object\n",
      "Overall Qual       2051 non-null int64\n",
      "Overall Cond       2051 non-null int64\n",
      "Year Built         2051 non-null int64\n",
      "Year Remod/Add     2051 non-null int64\n",
      "Roof Style         2051 non-null object\n",
      "Roof Matl          2051 non-null object\n",
      "Exterior 1st       2051 non-null object\n",
      "Exterior 2nd       2051 non-null object\n",
      "Mas Vnr Type       2029 non-null object\n",
      "Mas Vnr Area       2029 non-null float64\n",
      "Exter Qual         2051 non-null object\n",
      "Exter Cond         2051 non-null object\n",
      "Foundation         2051 non-null object\n",
      "Bsmt Qual          1996 non-null object\n",
      "Bsmt Cond          1996 non-null object\n",
      "Bsmt Exposure      1993 non-null object\n",
      "BsmtFin Type 1     1996 non-null object\n",
      "BsmtFin SF 1       2050 non-null float64\n",
      "BsmtFin Type 2     1995 non-null object\n",
      "BsmtFin SF 2       2050 non-null float64\n",
      "Bsmt Unf SF        2050 non-null float64\n",
      "Total Bsmt SF      2050 non-null float64\n",
      "Heating            2051 non-null object\n",
      "Heating QC         2051 non-null object\n",
      "Central Air        2051 non-null object\n",
      "Electrical         2051 non-null object\n",
      "1st Flr SF         2051 non-null int64\n",
      "2nd Flr SF         2051 non-null int64\n",
      "Low Qual Fin SF    2051 non-null int64\n",
      "Gr Liv Area        2051 non-null int64\n",
      "Bsmt Full Bath     2049 non-null float64\n",
      "Bsmt Half Bath     2049 non-null float64\n",
      "Full Bath          2051 non-null int64\n",
      "Half Bath          2051 non-null int64\n",
      "Bedroom AbvGr      2051 non-null int64\n",
      "Kitchen AbvGr      2051 non-null int64\n",
      "Kitchen Qual       2051 non-null object\n",
      "TotRms AbvGrd      2051 non-null int64\n",
      "Functional         2051 non-null object\n",
      "Fireplaces         2051 non-null int64\n",
      "Fireplace Qu       1051 non-null object\n",
      "Garage Type        1938 non-null object\n",
      "Garage Yr Blt      1937 non-null float64\n",
      "Garage Finish      1937 non-null object\n",
      "Garage Cars        2050 non-null float64\n",
      "Garage Area        2050 non-null float64\n",
      "Garage Qual        1937 non-null object\n",
      "Garage Cond        1937 non-null object\n",
      "Paved Drive        2051 non-null object\n",
      "Wood Deck SF       2051 non-null int64\n",
      "Open Porch SF      2051 non-null int64\n",
      "Enclosed Porch     2051 non-null int64\n",
      "3Ssn Porch         2051 non-null int64\n",
      "Screen Porch       2051 non-null int64\n",
      "Pool Area          2051 non-null int64\n",
      "Pool QC            9 non-null object\n",
      "Fence              400 non-null object\n",
      "Misc Feature       65 non-null object\n",
      "Misc Val           2051 non-null int64\n",
      "Mo Sold            2051 non-null int64\n",
      "Yr Sold            2051 non-null int64\n",
      "Sale Type          2051 non-null object\n",
      "SalePrice          2051 non-null int64\n",
      "dtypes: float64(11), int64(28), object(42)\n",
      "memory usage: 1.3+ MB\n"
     ]
    }
   ],
   "source": [
    "df.info()"
   ]
  },
  {
   "cell_type": "code",
   "execution_count": 5,
   "metadata": {},
   "outputs": [
    {
     "data": {
      "text/plain": [
       "SalePrice         1.000000\n",
       "Overall Qual      0.800207\n",
       "Gr Liv Area       0.697038\n",
       "Garage Area       0.650270\n",
       "Garage Cars       0.648220\n",
       "Total Bsmt SF     0.628925\n",
       "1st Flr SF        0.618486\n",
       "Year Built        0.571849\n",
       "Year Remod/Add    0.550370\n",
       "Full Bath         0.537969\n",
       "Garage Yr Blt     0.533922\n",
       "Mas Vnr Area      0.512230\n",
       "TotRms AbvGrd     0.504014\n",
       "Fireplaces        0.471093\n",
       "BsmtFin SF 1      0.423519\n",
       "Lot Frontage      0.341842\n",
       "Open Porch SF     0.333476\n",
       "Wood Deck SF      0.326490\n",
       "Lot Area          0.296566\n",
       "Bsmt Full Bath    0.283662\n",
       "Name: SalePrice, dtype: float64"
      ]
     },
     "execution_count": 5,
     "metadata": {},
     "output_type": "execute_result"
    }
   ],
   "source": [
    "df.corr()['SalePrice'].sort_values(ascending=False).head(20)"
   ]
  },
  {
   "cell_type": "code",
   "execution_count": 6,
   "metadata": {},
   "outputs": [],
   "source": [
    "feature_cols = ['Overall Qual', 'Gr Liv Area', 'Garage Cars', 'Garage Area', 'Year Built', 'Mas Vnr Area', 'Lot Area']"
   ]
  },
  {
   "cell_type": "code",
   "execution_count": 7,
   "metadata": {},
   "outputs": [],
   "source": [
    "X = df[feature_cols]\n",
    "y = df['SalePrice']"
   ]
  },
  {
   "cell_type": "code",
   "execution_count": 8,
   "metadata": {},
   "outputs": [
    {
     "data": {
      "text/plain": [
       "(2051, 7)"
      ]
     },
     "execution_count": 8,
     "metadata": {},
     "output_type": "execute_result"
    }
   ],
   "source": [
    "X.shape"
   ]
  },
  {
   "cell_type": "code",
   "execution_count": 9,
   "metadata": {},
   "outputs": [
    {
     "data": {
      "text/plain": [
       "(2051,)"
      ]
     },
     "execution_count": 9,
     "metadata": {},
     "output_type": "execute_result"
    }
   ],
   "source": [
    "y.shape"
   ]
  },
  {
   "cell_type": "code",
   "execution_count": 10,
   "metadata": {},
   "outputs": [
    {
     "data": {
      "text/plain": [
       "Overall Qual     0\n",
       "Gr Liv Area      0\n",
       "Garage Cars      1\n",
       "Garage Area      1\n",
       "Year Built       0\n",
       "Mas Vnr Area    22\n",
       "Lot Area         0\n",
       "dtype: int64"
      ]
     },
     "execution_count": 10,
     "metadata": {},
     "output_type": "execute_result"
    }
   ],
   "source": [
    "X.isnull().sum()"
   ]
  },
  {
   "cell_type": "code",
   "execution_count": 11,
   "metadata": {},
   "outputs": [
    {
     "data": {
      "text/html": [
       "<div>\n",
       "<style scoped>\n",
       "    .dataframe tbody tr th:only-of-type {\n",
       "        vertical-align: middle;\n",
       "    }\n",
       "\n",
       "    .dataframe tbody tr th {\n",
       "        vertical-align: top;\n",
       "    }\n",
       "\n",
       "    .dataframe thead th {\n",
       "        text-align: right;\n",
       "    }\n",
       "</style>\n",
       "<table border=\"1\" class=\"dataframe\">\n",
       "  <thead>\n",
       "    <tr style=\"text-align: right;\">\n",
       "      <th></th>\n",
       "      <th>Overall Qual</th>\n",
       "      <th>Gr Liv Area</th>\n",
       "      <th>Garage Cars</th>\n",
       "      <th>Garage Area</th>\n",
       "      <th>Year Built</th>\n",
       "      <th>Mas Vnr Area</th>\n",
       "      <th>Lot Area</th>\n",
       "    </tr>\n",
       "  </thead>\n",
       "  <tbody>\n",
       "    <tr>\n",
       "      <th>22</th>\n",
       "      <td>8</td>\n",
       "      <td>2253</td>\n",
       "      <td>2.0</td>\n",
       "      <td>575.0</td>\n",
       "      <td>2005</td>\n",
       "      <td>NaN</td>\n",
       "      <td>12867</td>\n",
       "    </tr>\n",
       "    <tr>\n",
       "      <th>41</th>\n",
       "      <td>10</td>\n",
       "      <td>2076</td>\n",
       "      <td>3.0</td>\n",
       "      <td>850.0</td>\n",
       "      <td>2006</td>\n",
       "      <td>NaN</td>\n",
       "      <td>13891</td>\n",
       "    </tr>\n",
       "    <tr>\n",
       "      <th>86</th>\n",
       "      <td>7</td>\n",
       "      <td>1200</td>\n",
       "      <td>2.0</td>\n",
       "      <td>555.0</td>\n",
       "      <td>2003</td>\n",
       "      <td>NaN</td>\n",
       "      <td>10083</td>\n",
       "    </tr>\n",
       "    <tr>\n",
       "      <th>212</th>\n",
       "      <td>7</td>\n",
       "      <td>1436</td>\n",
       "      <td>2.0</td>\n",
       "      <td>529.0</td>\n",
       "      <td>2008</td>\n",
       "      <td>NaN</td>\n",
       "      <td>7993</td>\n",
       "    </tr>\n",
       "    <tr>\n",
       "      <th>276</th>\n",
       "      <td>6</td>\n",
       "      <td>914</td>\n",
       "      <td>0.0</td>\n",
       "      <td>0.0</td>\n",
       "      <td>2002</td>\n",
       "      <td>NaN</td>\n",
       "      <td>8050</td>\n",
       "    </tr>\n",
       "    <tr>\n",
       "      <th>338</th>\n",
       "      <td>8</td>\n",
       "      <td>1880</td>\n",
       "      <td>3.0</td>\n",
       "      <td>880.0</td>\n",
       "      <td>2007</td>\n",
       "      <td>NaN</td>\n",
       "      <td>12217</td>\n",
       "    </tr>\n",
       "    <tr>\n",
       "      <th>431</th>\n",
       "      <td>8</td>\n",
       "      <td>2031</td>\n",
       "      <td>2.0</td>\n",
       "      <td>577.0</td>\n",
       "      <td>2002</td>\n",
       "      <td>NaN</td>\n",
       "      <td>9473</td>\n",
       "    </tr>\n",
       "    <tr>\n",
       "      <th>451</th>\n",
       "      <td>8</td>\n",
       "      <td>1460</td>\n",
       "      <td>2.0</td>\n",
       "      <td>480.0</td>\n",
       "      <td>2006</td>\n",
       "      <td>NaN</td>\n",
       "      <td>10037</td>\n",
       "    </tr>\n",
       "    <tr>\n",
       "      <th>591</th>\n",
       "      <td>7</td>\n",
       "      <td>1241</td>\n",
       "      <td>2.0</td>\n",
       "      <td>569.0</td>\n",
       "      <td>2006</td>\n",
       "      <td>NaN</td>\n",
       "      <td>4274</td>\n",
       "    </tr>\n",
       "    <tr>\n",
       "      <th>844</th>\n",
       "      <td>8</td>\n",
       "      <td>1550</td>\n",
       "      <td>2.0</td>\n",
       "      <td>528.0</td>\n",
       "      <td>2006</td>\n",
       "      <td>NaN</td>\n",
       "      <td>5330</td>\n",
       "    </tr>\n",
       "    <tr>\n",
       "      <th>913</th>\n",
       "      <td>6</td>\n",
       "      <td>2515</td>\n",
       "      <td>2.0</td>\n",
       "      <td>484.0</td>\n",
       "      <td>1957</td>\n",
       "      <td>NaN</td>\n",
       "      <td>32668</td>\n",
       "    </tr>\n",
       "    <tr>\n",
       "      <th>939</th>\n",
       "      <td>7</td>\n",
       "      <td>1428</td>\n",
       "      <td>2.0</td>\n",
       "      <td>480.0</td>\n",
       "      <td>2007</td>\n",
       "      <td>NaN</td>\n",
       "      <td>11639</td>\n",
       "    </tr>\n",
       "    <tr>\n",
       "      <th>1025</th>\n",
       "      <td>7</td>\n",
       "      <td>1528</td>\n",
       "      <td>2.0</td>\n",
       "      <td>480.0</td>\n",
       "      <td>2007</td>\n",
       "      <td>NaN</td>\n",
       "      <td>9965</td>\n",
       "    </tr>\n",
       "    <tr>\n",
       "      <th>1244</th>\n",
       "      <td>8</td>\n",
       "      <td>2004</td>\n",
       "      <td>3.0</td>\n",
       "      <td>644.0</td>\n",
       "      <td>2002</td>\n",
       "      <td>NaN</td>\n",
       "      <td>12891</td>\n",
       "    </tr>\n",
       "    <tr>\n",
       "      <th>1306</th>\n",
       "      <td>7</td>\n",
       "      <td>1394</td>\n",
       "      <td>2.0</td>\n",
       "      <td>400.0</td>\n",
       "      <td>2003</td>\n",
       "      <td>NaN</td>\n",
       "      <td>11950</td>\n",
       "    </tr>\n",
       "    <tr>\n",
       "      <th>1430</th>\n",
       "      <td>7</td>\n",
       "      <td>1812</td>\n",
       "      <td>2.0</td>\n",
       "      <td>469.0</td>\n",
       "      <td>2002</td>\n",
       "      <td>NaN</td>\n",
       "      <td>7500</td>\n",
       "    </tr>\n",
       "    <tr>\n",
       "      <th>1434</th>\n",
       "      <td>7</td>\n",
       "      <td>1665</td>\n",
       "      <td>2.0</td>\n",
       "      <td>562.0</td>\n",
       "      <td>2007</td>\n",
       "      <td>NaN</td>\n",
       "      <td>8125</td>\n",
       "    </tr>\n",
       "    <tr>\n",
       "      <th>1606</th>\n",
       "      <td>7</td>\n",
       "      <td>1414</td>\n",
       "      <td>2.0</td>\n",
       "      <td>403.0</td>\n",
       "      <td>2002</td>\n",
       "      <td>NaN</td>\n",
       "      <td>7750</td>\n",
       "    </tr>\n",
       "    <tr>\n",
       "      <th>1699</th>\n",
       "      <td>8</td>\n",
       "      <td>1564</td>\n",
       "      <td>2.0</td>\n",
       "      <td>502.0</td>\n",
       "      <td>2006</td>\n",
       "      <td>NaN</td>\n",
       "      <td>8298</td>\n",
       "    </tr>\n",
       "    <tr>\n",
       "      <th>1815</th>\n",
       "      <td>8</td>\n",
       "      <td>1670</td>\n",
       "      <td>3.0</td>\n",
       "      <td>928.0</td>\n",
       "      <td>2006</td>\n",
       "      <td>NaN</td>\n",
       "      <td>15218</td>\n",
       "    </tr>\n",
       "    <tr>\n",
       "      <th>1820</th>\n",
       "      <td>6</td>\n",
       "      <td>1496</td>\n",
       "      <td>2.0</td>\n",
       "      <td>572.0</td>\n",
       "      <td>2007</td>\n",
       "      <td>NaN</td>\n",
       "      <td>15810</td>\n",
       "    </tr>\n",
       "    <tr>\n",
       "      <th>1941</th>\n",
       "      <td>6</td>\n",
       "      <td>1960</td>\n",
       "      <td>2.0</td>\n",
       "      <td>440.0</td>\n",
       "      <td>2002</td>\n",
       "      <td>NaN</td>\n",
       "      <td>7851</td>\n",
       "    </tr>\n",
       "  </tbody>\n",
       "</table>\n",
       "</div>"
      ],
      "text/plain": [
       "      Overall Qual  Gr Liv Area  Garage Cars  Garage Area  Year Built  \\\n",
       "22               8         2253          2.0        575.0        2005   \n",
       "41              10         2076          3.0        850.0        2006   \n",
       "86               7         1200          2.0        555.0        2003   \n",
       "212              7         1436          2.0        529.0        2008   \n",
       "276              6          914          0.0          0.0        2002   \n",
       "338              8         1880          3.0        880.0        2007   \n",
       "431              8         2031          2.0        577.0        2002   \n",
       "451              8         1460          2.0        480.0        2006   \n",
       "591              7         1241          2.0        569.0        2006   \n",
       "844              8         1550          2.0        528.0        2006   \n",
       "913              6         2515          2.0        484.0        1957   \n",
       "939              7         1428          2.0        480.0        2007   \n",
       "1025             7         1528          2.0        480.0        2007   \n",
       "1244             8         2004          3.0        644.0        2002   \n",
       "1306             7         1394          2.0        400.0        2003   \n",
       "1430             7         1812          2.0        469.0        2002   \n",
       "1434             7         1665          2.0        562.0        2007   \n",
       "1606             7         1414          2.0        403.0        2002   \n",
       "1699             8         1564          2.0        502.0        2006   \n",
       "1815             8         1670          3.0        928.0        2006   \n",
       "1820             6         1496          2.0        572.0        2007   \n",
       "1941             6         1960          2.0        440.0        2002   \n",
       "\n",
       "      Mas Vnr Area  Lot Area  \n",
       "22             NaN     12867  \n",
       "41             NaN     13891  \n",
       "86             NaN     10083  \n",
       "212            NaN      7993  \n",
       "276            NaN      8050  \n",
       "338            NaN     12217  \n",
       "431            NaN      9473  \n",
       "451            NaN     10037  \n",
       "591            NaN      4274  \n",
       "844            NaN      5330  \n",
       "913            NaN     32668  \n",
       "939            NaN     11639  \n",
       "1025           NaN      9965  \n",
       "1244           NaN     12891  \n",
       "1306           NaN     11950  \n",
       "1430           NaN      7500  \n",
       "1434           NaN      8125  \n",
       "1606           NaN      7750  \n",
       "1699           NaN      8298  \n",
       "1815           NaN     15218  \n",
       "1820           NaN     15810  \n",
       "1941           NaN      7851  "
      ]
     },
     "execution_count": 11,
     "metadata": {},
     "output_type": "execute_result"
    }
   ],
   "source": [
    "X[X['Mas Vnr Area'].isnull()]"
   ]
  },
  {
   "cell_type": "code",
   "execution_count": 12,
   "metadata": {},
   "outputs": [
    {
     "name": "stderr",
     "output_type": "stream",
     "text": [
      "/anaconda3/envs/dsi/lib/python3.6/site-packages/ipykernel/__main__.py:1: SettingWithCopyWarning: \n",
      "A value is trying to be set on a copy of a slice from a DataFrame.\n",
      "Try using .loc[row_indexer,col_indexer] = value instead\n",
      "\n",
      "See the caveats in the documentation: http://pandas.pydata.org/pandas-docs/stable/indexing.html#indexing-view-versus-copy\n",
      "  if __name__ == '__main__':\n"
     ]
    }
   ],
   "source": [
    "X['Mas Vnr Area'] = X['Mas Vnr Area'].fillna(value=0.0)"
   ]
  },
  {
   "cell_type": "code",
   "execution_count": 13,
   "metadata": {
    "scrolled": true
   },
   "outputs": [
    {
     "name": "stderr",
     "output_type": "stream",
     "text": [
      "/anaconda3/envs/dsi/lib/python3.6/site-packages/ipykernel/__main__.py:1: SettingWithCopyWarning: \n",
      "A value is trying to be set on a copy of a slice from a DataFrame.\n",
      "Try using .loc[row_indexer,col_indexer] = value instead\n",
      "\n",
      "See the caveats in the documentation: http://pandas.pydata.org/pandas-docs/stable/indexing.html#indexing-view-versus-copy\n",
      "  if __name__ == '__main__':\n"
     ]
    }
   ],
   "source": [
    "X['Garage Cars'] = X['Garage Cars'].fillna(value=0.0)"
   ]
  },
  {
   "cell_type": "code",
   "execution_count": 14,
   "metadata": {},
   "outputs": [
    {
     "name": "stderr",
     "output_type": "stream",
     "text": [
      "/anaconda3/envs/dsi/lib/python3.6/site-packages/ipykernel/__main__.py:1: SettingWithCopyWarning: \n",
      "A value is trying to be set on a copy of a slice from a DataFrame.\n",
      "Try using .loc[row_indexer,col_indexer] = value instead\n",
      "\n",
      "See the caveats in the documentation: http://pandas.pydata.org/pandas-docs/stable/indexing.html#indexing-view-versus-copy\n",
      "  if __name__ == '__main__':\n"
     ]
    }
   ],
   "source": [
    "X['Garage Area'] = X['Garage Area'].fillna(value=0.0)"
   ]
  },
  {
   "cell_type": "code",
   "execution_count": 15,
   "metadata": {},
   "outputs": [
    {
     "data": {
      "text/plain": [
       "Overall Qual    0\n",
       "Gr Liv Area     0\n",
       "Garage Cars     0\n",
       "Garage Area     0\n",
       "Year Built      0\n",
       "Mas Vnr Area    0\n",
       "Lot Area        0\n",
       "dtype: int64"
      ]
     },
     "execution_count": 15,
     "metadata": {},
     "output_type": "execute_result"
    }
   ],
   "source": [
    "X.isnull().sum()"
   ]
  },
  {
   "cell_type": "code",
   "execution_count": 16,
   "metadata": {
    "scrolled": true
   },
   "outputs": [
    {
     "data": {
      "text/plain": [
       "(2051, 7)"
      ]
     },
     "execution_count": 16,
     "metadata": {},
     "output_type": "execute_result"
    }
   ],
   "source": [
    "X.shape"
   ]
  },
  {
   "cell_type": "code",
   "execution_count": 17,
   "metadata": {},
   "outputs": [
    {
     "data": {
      "text/plain": [
       "(2051,)"
      ]
     },
     "execution_count": 17,
     "metadata": {},
     "output_type": "execute_result"
    }
   ],
   "source": [
    "y.shape"
   ]
  },
  {
   "cell_type": "code",
   "execution_count": 18,
   "metadata": {},
   "outputs": [],
   "source": [
    "X_train, X_test, y_train, y_test = train_test_split(X, y, random_state=42)"
   ]
  },
  {
   "cell_type": "code",
   "execution_count": 19,
   "metadata": {},
   "outputs": [],
   "source": [
    "ss = StandardScaler()\n",
    "Xs = ss.fit_transform(X)"
   ]
  },
  {
   "cell_type": "code",
   "execution_count": 21,
   "metadata": {},
   "outputs": [
    {
     "data": {
      "text/plain": [
       "KNeighborsClassifier(algorithm='auto', leaf_size=30, metric='minkowski',\n",
       "           metric_params=None, n_jobs=1, n_neighbors=5, p=2,\n",
       "           weights='uniform')"
      ]
     },
     "execution_count": 21,
     "metadata": {},
     "output_type": "execute_result"
    }
   ],
   "source": [
    "knn = KNeighborsClassifier()\n",
    "knn.fit(X_train, y_train)"
   ]
  },
  {
   "cell_type": "code",
   "execution_count": 22,
   "metadata": {},
   "outputs": [
    {
     "data": {
      "text/plain": [
       "0.001949317738791423"
      ]
     },
     "execution_count": 22,
     "metadata": {},
     "output_type": "execute_result"
    }
   ],
   "source": [
    "knn.score(X_test, y_test)"
   ]
  },
  {
   "cell_type": "code",
   "execution_count": 23,
   "metadata": {},
   "outputs": [
    {
     "name": "stdout",
     "output_type": "stream",
     "text": [
      "182692.03118908382\n"
     ]
    }
   ],
   "source": [
    "print(np.mean(y_test))"
   ]
  },
  {
   "cell_type": "code",
   "execution_count": 25,
   "metadata": {},
   "outputs": [
    {
     "name": "stdout",
     "output_type": "stream",
     "text": [
      "Fitting 7 folds for each of 48 candidates, totalling 336 fits\n"
     ]
    },
    {
     "name": "stderr",
     "output_type": "stream",
     "text": [
      "/anaconda3/envs/dsi/lib/python3.6/site-packages/sklearn/model_selection/_split.py:605: Warning: The least populated class in y has only 1 members, which is too few. The minimum number of members in any class cannot be less than n_splits=7.\n",
      "  % (min_groups, self.n_splits)), Warning)\n"
     ]
    },
    {
     "name": "stdout",
     "output_type": "stream",
     "text": [
      "CPU times: user 330 ms, sys: 42 ms, total: 372 ms\n",
      "Wall time: 7.41 s\n"
     ]
    },
    {
     "name": "stderr",
     "output_type": "stream",
     "text": [
      "[Parallel(n_jobs=3)]: Done 336 out of 336 | elapsed:    7.1s finished\n"
     ]
    }
   ],
   "source": [
    "%%time\n",
    "\n",
    "knn_params = {\n",
    "    'n_neighbors':[1,3,5,9,11,15,17,19,21,23,25,27],\n",
    "    'weights':['uniform','distance'],\n",
    "    'metric':['euclidean','manhattan']\n",
    "}\n",
    "\n",
    "knn_gridsearch = GridSearchCV(KNeighborsClassifier(), knn_params, cv=7, verbose=1, n_jobs=3)\n",
    "\n",
    "knn_gridsearch = knn_gridsearch.fit(X_train, y_train)"
   ]
  },
  {
   "cell_type": "code",
   "execution_count": 26,
   "metadata": {},
   "outputs": [
    {
     "data": {
      "text/plain": [
       "0.013003901170351105"
      ]
     },
     "execution_count": 26,
     "metadata": {},
     "output_type": "execute_result"
    }
   ],
   "source": [
    "knn_gridsearch.best_score_"
   ]
  },
  {
   "cell_type": "code",
   "execution_count": 27,
   "metadata": {},
   "outputs": [
    {
     "data": {
      "text/plain": [
       "{'metric': 'manhattan', 'n_neighbors': 3, 'weights': 'distance'}"
      ]
     },
     "execution_count": 27,
     "metadata": {},
     "output_type": "execute_result"
    }
   ],
   "source": [
    "knn_gridsearch.best_params_"
   ]
  },
  {
   "cell_type": "code",
   "execution_count": 28,
   "metadata": {},
   "outputs": [
    {
     "data": {
      "text/plain": [
       "0.01364522417153996"
      ]
     },
     "execution_count": 28,
     "metadata": {},
     "output_type": "execute_result"
    }
   ],
   "source": [
    "best_knn = knn_gridsearch.best_estimator_\n",
    "best_knn.score(X_test, y_test)"
   ]
  },
  {
   "cell_type": "code",
   "execution_count": 29,
   "metadata": {},
   "outputs": [
    {
     "name": "stdout",
     "output_type": "stream",
     "text": [
      "baseline: 182692.03118908382\n",
      "default KNN: 0.001949317738791423\n"
     ]
    }
   ],
   "source": [
    "print('baseline:', np.mean(y_test))\n",
    "print('default KNN:', knn.score(X_test, y_test))"
   ]
  },
  {
   "cell_type": "code",
   "execution_count": 31,
   "metadata": {},
   "outputs": [
    {
     "name": "stdout",
     "output_type": "stream",
     "text": [
      "0.09947984395318596\n",
      "0.003898635477582846\n"
     ]
    }
   ],
   "source": [
    "lr = LogisticRegression()\n",
    "lr.fit(X_train, y_train)\n",
    "\n",
    "print(lr.score(X_train, y_train))\n",
    "print(lr.score(X_test, y_test))"
   ]
  },
  {
   "cell_type": "code",
   "execution_count": 32,
   "metadata": {},
   "outputs": [],
   "source": [
    "gs_params = {\n",
    "    'penalty':['l1','l2'],\n",
    "    'solver':['liblinear'],\n",
    "    'C':np.logspace(0,5,100)\n",
    "}\n",
    "\n",
    "lr_gridsearch = GridSearchCV(LogisticRegression(), gs_params, cv=5, verbose=1)"
   ]
  },
  {
   "cell_type": "code",
   "execution_count": null,
   "metadata": {},
   "outputs": [
    {
     "name": "stdout",
     "output_type": "stream",
     "text": [
      "Fitting 5 folds for each of 200 candidates, totalling 1000 fits\n"
     ]
    },
    {
     "name": "stderr",
     "output_type": "stream",
     "text": [
      "/anaconda3/envs/dsi/lib/python3.6/site-packages/sklearn/model_selection/_split.py:605: Warning: The least populated class in y has only 1 members, which is too few. The minimum number of members in any class cannot be less than n_splits=5.\n",
      "  % (min_groups, self.n_splits)), Warning)\n"
     ]
    }
   ],
   "source": [
    "%%time\n",
    "lr_gridsearch = lr_gridsearch.fit(X_train, y_train)"
   ]
  },
  {
   "cell_type": "code",
   "execution_count": null,
   "metadata": {},
   "outputs": [],
   "source": []
  },
  {
   "cell_type": "code",
   "execution_count": null,
   "metadata": {},
   "outputs": [],
   "source": []
  },
  {
   "cell_type": "code",
   "execution_count": null,
   "metadata": {},
   "outputs": [],
   "source": []
  },
  {
   "cell_type": "code",
   "execution_count": null,
   "metadata": {},
   "outputs": [],
   "source": []
  },
  {
   "cell_type": "code",
   "execution_count": null,
   "metadata": {},
   "outputs": [],
   "source": []
  },
  {
   "cell_type": "code",
   "execution_count": null,
   "metadata": {},
   "outputs": [],
   "source": []
  },
  {
   "cell_type": "code",
   "execution_count": null,
   "metadata": {},
   "outputs": [],
   "source": []
  },
  {
   "cell_type": "code",
   "execution_count": null,
   "metadata": {},
   "outputs": [],
   "source": [
    "X_kaggle = df_test[feature_cols]\n",
    "X_kaggle['Mas Vnr Area'] = X_kaggle['Mas Vnr Area'].fillna(value=0.0)\n",
    "preds = lr.predict(X_kaggle)"
   ]
  },
  {
   "cell_type": "code",
   "execution_count": 42,
   "metadata": {},
   "outputs": [],
   "source": [
    "ids = df_test['Id']"
   ]
  },
  {
   "cell_type": "code",
   "execution_count": 43,
   "metadata": {},
   "outputs": [
    {
     "data": {
      "text/plain": [
       "array([166970.48771741, 178306.08100383, 216841.98284209, 108808.12043813,\n",
       "       179335.37300653,  89378.81563445,  93322.9926649 , 129797.98552543,\n",
       "       215460.96509123, 167095.22148801, 166356.2008656 , 127366.39419832,\n",
       "       163497.64864366, 284191.59536025, 161454.97710284, 129919.88576237,\n",
       "       177848.95972232, 118016.66662046, 186137.42066693, 207398.7313423 ,\n",
       "       116954.32401798, 129366.91873116, 188009.57117505, 167956.11779379,\n",
       "       202827.71675467, 112207.36169418, 115742.22454775, 115430.54409682,\n",
       "       157835.87661013,  24165.33454299, 103426.94773797,  96553.05708721,\n",
       "       240084.97258395, 135917.16987932, 224171.68289512, 213754.78824656,\n",
       "        94364.44796394,  94113.61336022, 114421.90087197, 205668.64643008,\n",
       "       174686.84460996, 224415.54519808, 142847.47452451, 135750.65589118,\n",
       "       214343.13974971,  84159.4912233 , 236469.40227922, 112519.69184423,\n",
       "       106068.58171915, 115127.70461773, 108020.26293427, 232344.7745017 ,\n",
       "       265929.26308915, 119450.05009531, 124258.57477242, 148902.62294511,\n",
       "       181947.36827412, 137239.69101264, 188760.65030617, 243945.37392227,\n",
       "       301323.7421221 , 116901.69032376, 141807.59016884, 209248.31019943,\n",
       "       183759.42358293, 301880.25021083,  70897.13742744, 186105.43156125,\n",
       "        24662.72460794, 155054.84617416,  80352.44676736, 306271.92858323,\n",
       "       215584.41931003, 205150.28960707, 128887.02936807, 208809.43896929,\n",
       "       513168.79440387, 170142.48907709, 153303.99445814, 107065.53574305,\n",
       "       323224.08349594, 212894.4252635 , 143086.58279547, 113980.98905826,\n",
       "       103781.51919613, 201509.04789446, 320004.6633581 , 121256.24280259,\n",
       "       198133.7097771 , 273345.76283723, 168506.95417426, 111246.6565339 ,\n",
       "        94661.9045821 , 135226.55715388, 209363.24500938, 111374.80282276,\n",
       "       158254.90666625, 136473.48576703, 242074.63930386, 198365.17207267,\n",
       "       240373.03506105, 265908.02803956, 206612.71546241, 114812.83274333,\n",
       "       373462.10529098, 152209.38517324,  80424.3091191 , 182315.42991989,\n",
       "       214322.11463043, 196754.30376026, 118918.61870649, 195156.02807356,\n",
       "       250933.36366581, 110282.00287782, 130348.77878945, 216834.23584944,\n",
       "       481305.96754161, 145623.96342734, 144427.01862191, 304730.5087755 ,\n",
       "       189581.67527579, 369294.97832316, 306490.00269059, 277019.37365915,\n",
       "       183289.99307383, 130398.07667476, 339646.90860344, 112115.40883527,\n",
       "       108707.48533488, 107278.21396751, 293525.19265822, 130514.97159066,\n",
       "       189165.09968525, 149055.70100162, 158275.17403906, 185701.99082033,\n",
       "       223006.43880876, 211199.46614515, 201292.62608313, 186103.04313027,\n",
       "       115303.84917305, 178206.04805979, 111675.39024925, 136373.66437082,\n",
       "       192952.63367482,  98106.50087652, 174404.15339487, 168779.67847932,\n",
       "       169772.77027987,  65925.68686043, 221877.69009647, 225884.4602569 ,\n",
       "       166081.20489362, 111745.80849634, 109857.65706149,  88871.35906945,\n",
       "       119241.97268234,  73453.09207372, 133770.40692777, 255383.63386383,\n",
       "       302810.63125245, 198532.16520068, 118084.24305389, 112496.40417333,\n",
       "       374543.87367519, 277764.46382823, 273746.47025816, 178109.39488515,\n",
       "       185848.45558322, 249042.05443492, 209339.46587647, 433833.20065551,\n",
       "       134712.47195605, 159242.84716286, 189497.84339963, 221914.02524518,\n",
       "       179919.54709713,  77544.14799926, 180506.91055664,  88666.22877438,\n",
       "       124199.9052581 , 117899.01772271, 233965.77021395, 239780.03337292,\n",
       "       207716.19174728, 177185.22160917, 140308.18489096, 204544.6300962 ,\n",
       "       193692.8742439 , 121128.56478257,  75225.49210629, 209871.15299521,\n",
       "       105893.92703845, 115413.59025555, 104515.62269504, 182670.4392421 ,\n",
       "       147998.77596284, 285100.9808988 , 125378.74260483, 145331.10716382,\n",
       "       136845.89045544, 313008.65903077, 196670.04260407, 139073.41991125,\n",
       "       197776.80934984, 139789.64994734,  93781.0147445 , 164479.10517638,\n",
       "       159059.21018968, 232722.32747781, 226477.02915425, 191438.43741447,\n",
       "       206363.73857362,  80818.39554815, 466629.18571747, 262929.98562096,\n",
       "       215614.5848103 , 231361.23469151, 163561.56765925,  51643.20596463,\n",
       "       112684.35083075, 209833.59612089, 159274.31632149, 200284.56813805,\n",
       "       188351.57536843, 128696.4517974 , 109460.72626493, 283283.30676544,\n",
       "       238052.20454553, 132884.68262642, 307032.4196422 , 126178.89505184,\n",
       "        53250.11523071, 132645.78289971,  79617.83524514, 307161.2886264 ,\n",
       "       183772.95382161,  86382.22008436, 366971.5840322 , 305727.06914371,\n",
       "       196933.13228356, 269208.98266584, 171145.2155413 , 299920.57927233,\n",
       "       248208.41724239, 299915.42841388, 275565.26631245, 144669.93147531,\n",
       "        90092.51233244, 196252.09821814, 294687.01242353, 256648.66460653,\n",
       "       152948.61166879, 252783.6327142 , 241647.35656015, 183235.53459971,\n",
       "        57609.20055067,  62295.06276624, 375918.50752454, 223457.1040047 ,\n",
       "       270418.48826205, 202347.99042574, 159989.50300198, 154179.65279334,\n",
       "       161360.98796449, 247224.67963189, 201922.85831514, 125526.17842482,\n",
       "       221297.4550927 , 177986.49348731, 166331.02706649, 185839.00056658,\n",
       "       218276.28498045, 192808.65528945, 354959.98251897, 100129.68335805,\n",
       "       135988.07118367, 155735.16174038, 163127.64114215, 117703.35957721,\n",
       "       116574.0564614 , 264864.46510116, 154390.71288708, 109858.84476756,\n",
       "        93475.67059268, 145045.876834  , 245424.76997746, 200602.39221689,\n",
       "       149537.83458931, 121104.31788409, 132893.37782405, 108373.08595771,\n",
       "       184770.45682289,  90813.54307852, 108360.59578057, 152540.66980386,\n",
       "       155054.84617416, 243824.88299258, 251225.30900329, 240898.87992713,\n",
       "       167264.69622543, 202217.22032538, 294248.49710026, 133992.34307492,\n",
       "       151649.34376595,  84994.84879555,  97751.72527847, 348760.02399494,\n",
       "       206377.78515625, 126532.48405894, 121767.7542486 , 196189.65910205,\n",
       "       224231.3402003 , 233602.96954657, 294045.76933555, 147608.79165517,\n",
       "       310976.66540879, 306875.63279816, 237139.28672733, 253138.10584773,\n",
       "       126309.3046404 ,  62425.82147195, 111557.4021016 , 126943.9869188 ,\n",
       "       272385.82946523, 127036.12239419, 144821.0674845 , 146726.1276135 ,\n",
       "       185264.15537143, 200245.2370393 , 139483.29222636, 192284.65611815,\n",
       "       201900.87618714, 184931.78898528, 206265.59397321, 102170.48114645,\n",
       "       176428.05288923,  90067.9736742 ,  79425.108936  , 146238.14818703,\n",
       "       187285.24335224, 198699.04035675, 101033.73786435, 124818.44075733,\n",
       "       198286.4178008 , 283812.79070012, 249822.40265134, 194106.13372014,\n",
       "       112908.09796168, 212063.04626915, 148023.99778177, 167034.35099692,\n",
       "       166993.283582  , 153391.35968156, 261566.43536392, 115374.00040748,\n",
       "       281172.40621787, 163046.85711537, 212802.16674645, 266524.09128091,\n",
       "       105406.26990144, 153857.16501703, 155168.14355163, 104637.63312292,\n",
       "       185685.32712682, 224610.41602082, 258000.85436546, 217471.7489202 ,\n",
       "       190521.29102709, 231934.80702632,  64520.03456066, 263092.82469625,\n",
       "       153764.31351672, 176597.43030361, 369799.35401543, 132112.95437331,\n",
       "       270337.25451287, 159146.61226349, 240835.55815124, 211362.79245574,\n",
       "       123894.64331505, 159427.94481536, 183930.44667418, 308495.86701772,\n",
       "       304436.95098475, 223853.71113309, 179285.00016901, 169064.3286603 ,\n",
       "       187339.38418587, 152209.78896963, 130600.23541339, 135892.27801386,\n",
       "       245969.05095548, 184664.72836029, 126964.0936241 , 214477.67992325,\n",
       "        41398.00812762, 175963.14623513, 183070.37887187, 127992.6239581 ,\n",
       "       111342.119653  , 242366.45883208, 231040.34010363, 108086.07434535,\n",
       "       278451.96734215, 139595.59693098, 114378.58686011, 131305.88884802,\n",
       "       240012.2119097 , 277449.22096619, 133251.17663471, 122620.67578124,\n",
       "       146129.01707299, 264862.53636288, 146271.37893442, 279792.42662085,\n",
       "       338201.87768506, 136610.27126885, 261278.60841409, 104622.73924509,\n",
       "       166609.1843688 , 228322.74757449, 119883.78949344, 257137.78583276,\n",
       "       120257.50972461, 240910.54994735, 343439.92221564, 206252.52442378,\n",
       "       229251.09166192, 167285.65986723, 287531.43730291, 103693.61779566,\n",
       "       140263.23549486, 120508.01221405, 212491.00318949,  85983.59373325,\n",
       "       314192.82474455, 204910.81316463, 204475.05153428, 185462.45667214,\n",
       "       187345.43832656, 215431.19875776, 136887.99129171, 127748.9171186 ,\n",
       "       168645.55120244, 171557.42780857, 163684.63751311,  41944.93249066,\n",
       "        57830.42211121, 294165.63962375, 124609.05557661, 228301.13733345,\n",
       "       274446.8319499 , 207379.01433205, 191043.66348913, 216946.27694047,\n",
       "       248968.47435957, 213384.22614599, 112851.58766639, 249152.20601089,\n",
       "       112692.46644331, 155141.26942876, 114849.18347489, 174148.89906298,\n",
       "       486277.74476734,  86535.73262115, 230628.62785066, 227505.55403909,\n",
       "       253202.40843877, 131086.42372691, 110991.11982499, 128502.64189115,\n",
       "       247627.53337045, 179161.17717177, 113949.83922169, 267580.96241921,\n",
       "       236276.7557815 , 116822.11184282, 167789.14599036, 106760.22774749,\n",
       "       175424.04169366,  84734.83347901, 264090.61039807,  76151.45414642,\n",
       "       204479.4891884 , 281675.7306531 , 149173.71675446, 156052.7197484 ,\n",
       "       194456.39857487, 189110.03662879, 146848.81211877, 153179.05776825,\n",
       "       218656.38450426, 181576.04117112, 236636.2245727 , 323159.25831983,\n",
       "       195261.95583494, 100115.33093174, 109109.84963789, 185247.85278837,\n",
       "       109923.43171723, 185341.69411848, 278618.07171287, 198899.2621371 ,\n",
       "       169242.71478118, 207464.73210088, 117434.53259328, 261147.77873714,\n",
       "       114245.16718324, 127334.30013561, 280779.04148876, 105373.17923583,\n",
       "       143811.7243491 , 141987.8661321 , 125900.65112486,   9600.09101691,\n",
       "       191639.85081957, 148479.09485587, 210131.83694376, 272916.57671405,\n",
       "       288860.60878938,  95842.40308107, 140258.56719299, 185452.8198194 ,\n",
       "       120080.26812083, 216727.82250197, 362147.24583094, 197321.53188173,\n",
       "       129989.03216903, 120451.69987365,  -2067.57922259, 153158.11856283,\n",
       "       194146.13842725, 165450.3463024 , 206764.18756944, 155423.65291869,\n",
       "       156796.99832056,  73006.4554805 , 224205.949678  , 155707.17919453,\n",
       "       172831.17993141, 155404.42909687,  87215.52370405,  67736.33448542,\n",
       "       160057.45275076, 247322.30482725, 316604.61261341, 238967.35991842,\n",
       "       108245.57271408, 144991.03010508, 276888.07268466, 116229.93247995,\n",
       "       321180.34326811,  90161.3177419 , 202558.54908242, 226097.22747521,\n",
       "        74500.89512473, 122879.39317924, 167784.91725921, 131180.32239962,\n",
       "       173249.50665694, 115429.75031515, 199457.44166385, 173600.66494093,\n",
       "       141716.03949869, 149031.83316876, 116951.11290218, 123531.5443138 ,\n",
       "       207017.63073852, 138137.73520792, 149762.65134095, 166147.50968606,\n",
       "       106205.63903628,  82120.01199245, 142530.93381174, 183714.94885515,\n",
       "       114296.02834315, 174066.41625678, 156038.38916252, 215317.57640273,\n",
       "       116191.20919877, 182342.24175338, 148415.29669984, 273248.28855033,\n",
       "        90334.18439219, 166931.14664376, 156450.16518085, 139004.89803649,\n",
       "       106674.82295029, 269338.25532836, 212152.14878691, 127253.19975105,\n",
       "        90049.44874487, 134431.1098488 , 126288.32089383, 319873.64063   ,\n",
       "       241808.5757163 ,  98416.35795339, 136359.74588787, 118026.36634034,\n",
       "       305540.45357097, 115281.26643183, 232941.84144302, 125911.41305759,\n",
       "       199771.22474895, 215721.53112723,  89499.48874648, 121323.99629788,\n",
       "       100214.07390824, 175366.25945333, 116085.94414251,  96095.58202252,\n",
       "       336800.97190567, 212881.07258812, 132072.56672668, 160767.59567818,\n",
       "         6246.73453015, 199127.64176203, 285708.2761428 ,  82398.37200297,\n",
       "       199408.3432571 , 206944.26321289, 148966.84887998, 145199.32196272,\n",
       "       111421.88278443, 138085.75840911, 195741.31348557, 211393.86816111,\n",
       "       128892.95588813, 279681.89039148, 148210.59515875, 199822.66871599,\n",
       "       188975.62960076, 121528.84839908,  38530.46186991, 155201.76439141,\n",
       "       227418.53101496, 184688.30715541, 179726.83826242, 130116.89614581,\n",
       "       138982.89027143, 292317.86117951, 127657.4271248 , 188394.56450887,\n",
       "       256041.12739823, 154160.09662538,  58071.75019037, 276302.44949683,\n",
       "       196097.9836736 , 166241.61406754, 211213.03287738, 130360.41067322,\n",
       "       101062.39959669,  98154.31995828, 153231.32553511,  46811.7677541 ,\n",
       "       157860.501853  , 224604.57501152, 165859.2951635 , 257654.67888996,\n",
       "       213903.17635773, 171441.4495297 , 212019.88037091, 187147.43501708,\n",
       "       246529.97829781, 348564.67246701, 247458.30309908, 194855.00425928,\n",
       "       176134.49098037, 151511.79756419, 288246.88912171, 232604.63969405,\n",
       "       280727.00945888, 230015.27043818, 132250.85875953, 109716.99460805,\n",
       "       132260.02148883, 143432.52355858,  89837.81159662, 163339.49579932,\n",
       "       108516.35392586, 325981.97257004, 206906.82863511, 189963.85995937,\n",
       "       260438.01543081, 199407.88427964, 179035.38981053, 204704.97978482,\n",
       "       321746.95023694, 120753.93132223, 206628.7198468 ,  55464.27589539,\n",
       "       111662.81899861, 217755.9105205 , 122945.81924061, 194506.60917213,\n",
       "       172544.93914571, 232144.57987015, 296521.68834333,  97628.67386794,\n",
       "       250344.94357892, 157662.15372936, 118788.27270833, 199331.09764194,\n",
       "       132311.79784875, 272045.24484125, 227669.02593367, 161608.2264324 ,\n",
       "       128348.22518268, 109442.00153635, 309425.36271306, 215720.71928009,\n",
       "        74492.37986418, 126268.98788532, 129339.35428546, 108651.82658559,\n",
       "       227248.9691531 , 289182.80912214, 254241.12868106, 168961.73326487,\n",
       "       241393.70714459, 217687.41860146, 296552.49287496, 129526.12449014,\n",
       "       132956.52167939, 302460.53385605, 174986.15567635, 211219.95779906,\n",
       "       110572.77198979, 277259.29382432,  68980.61535557, 232325.34737764,\n",
       "       211402.73470687, 279518.61485168, 160861.86085902, 199294.43506425,\n",
       "       158022.09921788, 161056.95874363, 174889.16063211, 139008.8078362 ,\n",
       "       129137.33453313, 219376.48001514, 171901.62721326, 144787.02940076,\n",
       "       109973.94207157, 181461.3400857 , 185513.1324404 , 216995.11461827,\n",
       "       240027.37124973, 124829.96711427, 289040.53391941, 280785.05111832,\n",
       "       148713.51353352, 164400.15162387, 185153.16772951, 130495.49693283,\n",
       "       153486.15100622, 352894.97110074,  64959.9664762 , 156303.87082512,\n",
       "       233383.21631685, 143334.54789641, 239947.24492852, 122455.50708521,\n",
       "       191968.58950778, 164527.81244667, 280573.0498043 , 208478.52867204,\n",
       "       199965.38482761, 294427.17032159, 165505.13156654, 228869.74930182,\n",
       "       197661.3691383 , 155416.44942666, 208518.91500267, 119228.32374371,\n",
       "       154580.7933008 , 232409.40161489, 139968.73985419, 119153.44100641,\n",
       "       157236.9459852 , 197507.52438882, 357081.83274144,  99659.57006912,\n",
       "       110002.9077434 ,  90397.28673307, 136084.99890423, 274302.98053963,\n",
       "       146895.901264  , 250717.75302419, 142063.02783238, 191639.78154819,\n",
       "       248699.81951794, 172679.5180544 , 308785.93156038, 157683.33124973,\n",
       "       212285.92055162, 200948.41011336, 231127.43809279, 230493.51270692,\n",
       "       246531.96343265, 125987.34191662, 124024.88942564, 199625.16103361,\n",
       "        91314.74640124, 258265.5475524 , 105254.3784578 , 100273.97434185,\n",
       "       205688.35041756, 142182.04364194, 124057.15824683, 125044.2728702 ,\n",
       "       313831.23354918, 187117.33586565, 142283.2466819 , 209918.18299024,\n",
       "       206331.14164178, 218880.82872029,  66227.8265095 , 100654.83830473,\n",
       "       181789.3531437 , 173173.23944844, 112746.40802914, 344127.79081204,\n",
       "       123938.73592539, 203723.2455663 , 220919.57968195, 328752.8028165 ,\n",
       "       120060.1827501 , 194227.48608681, 145344.55272215, 183496.70962046,\n",
       "       164775.721759  , 260276.0614801 , 235073.39460873, 142591.64834915,\n",
       "       118046.2002311 , 275686.62203167, 122709.9695381 , 116751.50556103,\n",
       "       117370.70426923, 235956.83877652, 210737.32222847, 223482.98701111,\n",
       "       125466.39134645, 176527.50220928, 177739.61238017, 258420.13344309,\n",
       "       233548.82507031, 146263.07928296, 184627.61680228, 176102.64457354,\n",
       "       165160.9633161 , 137614.62350826, 131513.28759791, 173790.21877087,\n",
       "        76973.95963136, 228295.89279953,  67794.85104442, 224369.70468898,\n",
       "        99163.81757242, 292108.8391639 , 169476.30732638, 147991.20352871,\n",
       "       154348.19761596, 157128.72717596, 221242.07322532, 194050.23016757,\n",
       "       227762.67739601, 201047.54571777, 207718.85573796, 226065.38882678,\n",
       "       300727.42609123, 206629.02556466, 190615.66137197, 218583.47990081,\n",
       "       126021.08754088, 100630.77671659, 112006.60497592])"
      ]
     },
     "execution_count": 43,
     "metadata": {},
     "output_type": "execute_result"
    }
   ],
   "source": [
    "preds"
   ]
  },
  {
   "cell_type": "code",
   "execution_count": 44,
   "metadata": {},
   "outputs": [],
   "source": [
    "preds_df = pd.DataFrame({\n",
    "    'Id': ids,\n",
    "    'SalePrice': preds\n",
    "})"
   ]
  },
  {
   "cell_type": "code",
   "execution_count": 45,
   "metadata": {},
   "outputs": [],
   "source": [
    "import datetime"
   ]
  },
  {
   "cell_type": "code",
   "execution_count": 46,
   "metadata": {},
   "outputs": [],
   "source": [
    "now = str(datetime.datetime.now())"
   ]
  },
  {
   "cell_type": "code",
   "execution_count": 47,
   "metadata": {},
   "outputs": [
    {
     "data": {
      "text/plain": [
       "'predictions_2018-08-23 01:22:52.209881'"
      ]
     },
     "execution_count": 47,
     "metadata": {},
     "output_type": "execute_result"
    }
   ],
   "source": [
    "f'predictions_{now}'"
   ]
  },
  {
   "cell_type": "code",
   "execution_count": 48,
   "metadata": {},
   "outputs": [],
   "source": [
    "now = str(datetime.datetime.now())\n",
    "preds_df.to_csv(f'kaggle_preds_{now}', index=False)"
   ]
  },
  {
   "cell_type": "code",
   "execution_count": 49,
   "metadata": {},
   "outputs": [
    {
     "data": {
      "text/html": [
       "<div>\n",
       "<style scoped>\n",
       "    .dataframe tbody tr th:only-of-type {\n",
       "        vertical-align: middle;\n",
       "    }\n",
       "\n",
       "    .dataframe tbody tr th {\n",
       "        vertical-align: top;\n",
       "    }\n",
       "\n",
       "    .dataframe thead th {\n",
       "        text-align: right;\n",
       "    }\n",
       "</style>\n",
       "<table border=\"1\" class=\"dataframe\">\n",
       "  <thead>\n",
       "    <tr style=\"text-align: right;\">\n",
       "      <th></th>\n",
       "      <th>Id</th>\n",
       "      <th>SalePrice</th>\n",
       "    </tr>\n",
       "  </thead>\n",
       "  <tbody>\n",
       "    <tr>\n",
       "      <th>0</th>\n",
       "      <td>2658</td>\n",
       "      <td>138705.474199</td>\n",
       "    </tr>\n",
       "    <tr>\n",
       "      <th>1</th>\n",
       "      <td>2718</td>\n",
       "      <td>187798.076976</td>\n",
       "    </tr>\n",
       "    <tr>\n",
       "      <th>2</th>\n",
       "      <td>2414</td>\n",
       "      <td>207279.192487</td>\n",
       "    </tr>\n",
       "    <tr>\n",
       "      <th>3</th>\n",
       "      <td>1989</td>\n",
       "      <td>130850.679406</td>\n",
       "    </tr>\n",
       "    <tr>\n",
       "      <th>4</th>\n",
       "      <td>625</td>\n",
       "      <td>189299.458513</td>\n",
       "    </tr>\n",
       "    <tr>\n",
       "      <th>5</th>\n",
       "      <td>333</td>\n",
       "      <td>67041.727124</td>\n",
       "    </tr>\n",
       "    <tr>\n",
       "      <th>6</th>\n",
       "      <td>1327</td>\n",
       "      <td>96958.278043</td>\n",
       "    </tr>\n",
       "    <tr>\n",
       "      <th>7</th>\n",
       "      <td>858</td>\n",
       "      <td>139570.224545</td>\n",
       "    </tr>\n",
       "    <tr>\n",
       "      <th>8</th>\n",
       "      <td>95</td>\n",
       "      <td>195654.666432</td>\n",
       "    </tr>\n",
       "    <tr>\n",
       "      <th>9</th>\n",
       "      <td>1568</td>\n",
       "      <td>188241.311960</td>\n",
       "    </tr>\n",
       "    <tr>\n",
       "      <th>10</th>\n",
       "      <td>2482</td>\n",
       "      <td>184532.280114</td>\n",
       "    </tr>\n",
       "    <tr>\n",
       "      <th>11</th>\n",
       "      <td>1364</td>\n",
       "      <td>162340.536799</td>\n",
       "    </tr>\n",
       "    <tr>\n",
       "      <th>12</th>\n",
       "      <td>2584</td>\n",
       "      <td>189002.208900</td>\n",
       "    </tr>\n",
       "    <tr>\n",
       "      <th>13</th>\n",
       "      <td>818</td>\n",
       "      <td>249801.785280</td>\n",
       "    </tr>\n",
       "    <tr>\n",
       "      <th>14</th>\n",
       "      <td>2673</td>\n",
       "      <td>150128.924928</td>\n",
       "    </tr>\n",
       "    <tr>\n",
       "      <th>15</th>\n",
       "      <td>2089</td>\n",
       "      <td>137989.887354</td>\n",
       "    </tr>\n",
       "    <tr>\n",
       "      <th>16</th>\n",
       "      <td>1297</td>\n",
       "      <td>163843.550061</td>\n",
       "    </tr>\n",
       "    <tr>\n",
       "      <th>17</th>\n",
       "      <td>790</td>\n",
       "      <td>126857.258200</td>\n",
       "    </tr>\n",
       "    <tr>\n",
       "      <th>18</th>\n",
       "      <td>2616</td>\n",
       "      <td>207158.251498</td>\n",
       "    </tr>\n",
       "    <tr>\n",
       "      <th>19</th>\n",
       "      <td>720</td>\n",
       "      <td>221495.760820</td>\n",
       "    </tr>\n",
       "    <tr>\n",
       "      <th>20</th>\n",
       "      <td>222</td>\n",
       "      <td>127094.398069</td>\n",
       "    </tr>\n",
       "    <tr>\n",
       "      <th>21</th>\n",
       "      <td>557</td>\n",
       "      <td>134656.343713</td>\n",
       "    </tr>\n",
       "    <tr>\n",
       "      <th>22</th>\n",
       "      <td>1148</td>\n",
       "      <td>203543.174139</td>\n",
       "    </tr>\n",
       "    <tr>\n",
       "      <th>23</th>\n",
       "      <td>2766</td>\n",
       "      <td>189524.567325</td>\n",
       "    </tr>\n",
       "    <tr>\n",
       "      <th>24</th>\n",
       "      <td>534</td>\n",
       "      <td>221212.773857</td>\n",
       "    </tr>\n",
       "    <tr>\n",
       "      <th>25</th>\n",
       "      <td>1452</td>\n",
       "      <td>117965.300356</td>\n",
       "    </tr>\n",
       "    <tr>\n",
       "      <th>26</th>\n",
       "      <td>630</td>\n",
       "      <td>102322.551387</td>\n",
       "    </tr>\n",
       "    <tr>\n",
       "      <th>27</th>\n",
       "      <td>2648</td>\n",
       "      <td>110038.993632</td>\n",
       "    </tr>\n",
       "    <tr>\n",
       "      <th>28</th>\n",
       "      <td>125</td>\n",
       "      <td>173530.140235</td>\n",
       "    </tr>\n",
       "    <tr>\n",
       "      <th>29</th>\n",
       "      <td>1904</td>\n",
       "      <td>11778.005401</td>\n",
       "    </tr>\n",
       "    <tr>\n",
       "      <th>...</th>\n",
       "      <td>...</td>\n",
       "      <td>...</td>\n",
       "    </tr>\n",
       "    <tr>\n",
       "      <th>849</th>\n",
       "      <td>933</td>\n",
       "      <td>144053.859653</td>\n",
       "    </tr>\n",
       "    <tr>\n",
       "      <th>850</th>\n",
       "      <td>2784</td>\n",
       "      <td>206234.780995</td>\n",
       "    </tr>\n",
       "    <tr>\n",
       "      <th>851</th>\n",
       "      <td>972</td>\n",
       "      <td>181797.087705</td>\n",
       "    </tr>\n",
       "    <tr>\n",
       "      <th>852</th>\n",
       "      <td>599</td>\n",
       "      <td>188318.460221</td>\n",
       "    </tr>\n",
       "    <tr>\n",
       "      <th>853</th>\n",
       "      <td>2614</td>\n",
       "      <td>145062.118700</td>\n",
       "    </tr>\n",
       "    <tr>\n",
       "      <th>854</th>\n",
       "      <td>2582</td>\n",
       "      <td>140021.104484</td>\n",
       "    </tr>\n",
       "    <tr>\n",
       "      <th>855</th>\n",
       "      <td>1409</td>\n",
       "      <td>186373.064797</td>\n",
       "    </tr>\n",
       "    <tr>\n",
       "      <th>856</th>\n",
       "      <td>175</td>\n",
       "      <td>42957.941207</td>\n",
       "    </tr>\n",
       "    <tr>\n",
       "      <th>857</th>\n",
       "      <td>352</td>\n",
       "      <td>257209.933190</td>\n",
       "    </tr>\n",
       "    <tr>\n",
       "      <th>858</th>\n",
       "      <td>976</td>\n",
       "      <td>69752.985336</td>\n",
       "    </tr>\n",
       "    <tr>\n",
       "      <th>859</th>\n",
       "      <td>2134</td>\n",
       "      <td>206254.251024</td>\n",
       "    </tr>\n",
       "    <tr>\n",
       "      <th>860</th>\n",
       "      <td>984</td>\n",
       "      <td>104413.046709</td>\n",
       "    </tr>\n",
       "    <tr>\n",
       "      <th>861</th>\n",
       "      <td>2396</td>\n",
       "      <td>332552.781020</td>\n",
       "    </tr>\n",
       "    <tr>\n",
       "      <th>862</th>\n",
       "      <td>1673</td>\n",
       "      <td>174627.827018</td>\n",
       "    </tr>\n",
       "    <tr>\n",
       "      <th>863</th>\n",
       "      <td>404</td>\n",
       "      <td>123825.360611</td>\n",
       "    </tr>\n",
       "    <tr>\n",
       "      <th>864</th>\n",
       "      <td>607</td>\n",
       "      <td>155379.314280</td>\n",
       "    </tr>\n",
       "    <tr>\n",
       "      <th>865</th>\n",
       "      <td>814</td>\n",
       "      <td>152480.412193</td>\n",
       "    </tr>\n",
       "    <tr>\n",
       "      <th>866</th>\n",
       "      <td>868</td>\n",
       "      <td>202472.974694</td>\n",
       "    </tr>\n",
       "    <tr>\n",
       "      <th>867</th>\n",
       "      <td>2271</td>\n",
       "      <td>198393.215232</td>\n",
       "    </tr>\n",
       "    <tr>\n",
       "      <th>868</th>\n",
       "      <td>1633</td>\n",
       "      <td>208633.093758</td>\n",
       "    </tr>\n",
       "    <tr>\n",
       "      <th>869</th>\n",
       "      <td>337</td>\n",
       "      <td>154150.078653</td>\n",
       "    </tr>\n",
       "    <tr>\n",
       "      <th>870</th>\n",
       "      <td>2765</td>\n",
       "      <td>205398.662472</td>\n",
       "    </tr>\n",
       "    <tr>\n",
       "      <th>871</th>\n",
       "      <td>1746</td>\n",
       "      <td>258302.939936</td>\n",
       "    </tr>\n",
       "    <tr>\n",
       "      <th>872</th>\n",
       "      <td>368</td>\n",
       "      <td>307605.490346</td>\n",
       "    </tr>\n",
       "    <tr>\n",
       "      <th>873</th>\n",
       "      <td>2806</td>\n",
       "      <td>226716.477217</td>\n",
       "    </tr>\n",
       "    <tr>\n",
       "      <th>874</th>\n",
       "      <td>1662</td>\n",
       "      <td>176146.884640</td>\n",
       "    </tr>\n",
       "    <tr>\n",
       "      <th>875</th>\n",
       "      <td>1234</td>\n",
       "      <td>184506.884239</td>\n",
       "    </tr>\n",
       "    <tr>\n",
       "      <th>876</th>\n",
       "      <td>1373</td>\n",
       "      <td>133672.253700</td>\n",
       "    </tr>\n",
       "    <tr>\n",
       "      <th>877</th>\n",
       "      <td>1672</td>\n",
       "      <td>107804.978415</td>\n",
       "    </tr>\n",
       "    <tr>\n",
       "      <th>878</th>\n",
       "      <td>1939</td>\n",
       "      <td>118571.574244</td>\n",
       "    </tr>\n",
       "  </tbody>\n",
       "</table>\n",
       "<p>879 rows × 2 columns</p>\n",
       "</div>"
      ],
      "text/plain": [
       "       Id      SalePrice\n",
       "0    2658  138705.474199\n",
       "1    2718  187798.076976\n",
       "2    2414  207279.192487\n",
       "3    1989  130850.679406\n",
       "4     625  189299.458513\n",
       "5     333   67041.727124\n",
       "6    1327   96958.278043\n",
       "7     858  139570.224545\n",
       "8      95  195654.666432\n",
       "9    1568  188241.311960\n",
       "10   2482  184532.280114\n",
       "11   1364  162340.536799\n",
       "12   2584  189002.208900\n",
       "13    818  249801.785280\n",
       "14   2673  150128.924928\n",
       "15   2089  137989.887354\n",
       "16   1297  163843.550061\n",
       "17    790  126857.258200\n",
       "18   2616  207158.251498\n",
       "19    720  221495.760820\n",
       "20    222  127094.398069\n",
       "21    557  134656.343713\n",
       "22   1148  203543.174139\n",
       "23   2766  189524.567325\n",
       "24    534  221212.773857\n",
       "25   1452  117965.300356\n",
       "26    630  102322.551387\n",
       "27   2648  110038.993632\n",
       "28    125  173530.140235\n",
       "29   1904   11778.005401\n",
       "..    ...            ...\n",
       "849   933  144053.859653\n",
       "850  2784  206234.780995\n",
       "851   972  181797.087705\n",
       "852   599  188318.460221\n",
       "853  2614  145062.118700\n",
       "854  2582  140021.104484\n",
       "855  1409  186373.064797\n",
       "856   175   42957.941207\n",
       "857   352  257209.933190\n",
       "858   976   69752.985336\n",
       "859  2134  206254.251024\n",
       "860   984  104413.046709\n",
       "861  2396  332552.781020\n",
       "862  1673  174627.827018\n",
       "863   404  123825.360611\n",
       "864   607  155379.314280\n",
       "865   814  152480.412193\n",
       "866   868  202472.974694\n",
       "867  2271  198393.215232\n",
       "868  1633  208633.093758\n",
       "869   337  154150.078653\n",
       "870  2765  205398.662472\n",
       "871  1746  258302.939936\n",
       "872   368  307605.490346\n",
       "873  2806  226716.477217\n",
       "874  1662  176146.884640\n",
       "875  1234  184506.884239\n",
       "876  1373  133672.253700\n",
       "877  1672  107804.978415\n",
       "878  1939  118571.574244\n",
       "\n",
       "[879 rows x 2 columns]"
      ]
     },
     "execution_count": 49,
     "metadata": {},
     "output_type": "execute_result"
    }
   ],
   "source": [
    "pd.read_csv('kaggle_preds_2018-08-23 00:31:25.234333')"
   ]
  },
  {
   "cell_type": "code",
   "execution_count": null,
   "metadata": {},
   "outputs": [],
   "source": []
  },
  {
   "cell_type": "code",
   "execution_count": null,
   "metadata": {},
   "outputs": [],
   "source": []
  }
 ],
 "metadata": {
  "kernelspec": {
   "display_name": "Python [conda env:dsi]",
   "language": "python",
   "name": "conda-env-dsi-py"
  },
  "language_info": {
   "codemirror_mode": {
    "name": "ipython",
    "version": 3
   },
   "file_extension": ".py",
   "mimetype": "text/x-python",
   "name": "python",
   "nbconvert_exporter": "python",
   "pygments_lexer": "ipython3",
   "version": "3.6.5"
  }
 },
 "nbformat": 4,
 "nbformat_minor": 2
}
