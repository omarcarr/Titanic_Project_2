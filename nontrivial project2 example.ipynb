{
 "cells": [
  {
   "cell_type": "code",
   "execution_count": 1,
   "metadata": {},
   "outputs": [],
   "source": [
    "import matplotlib as plt\n",
    "import numpy as np\n",
    "import pandas as pd\n",
    "import seaborn as sns\n",
    "\n",
    "from sklearn.linear_model import LinearRegression, RidgeCV, LassoCV, ElasticNetCV\n",
    "from sklearn.model_selection import train_test_split, cross_val_score\n",
    "\n",
    "from sklearn.preprocessing import StandardScaler, PolynomialFeatures\n",
    "\n",
    "%matplotlib inline\n",
    "sns.set_style('whitegrid')\n",
    "plt.style.use('fivethirtyeight')"
   ]
  },
  {
   "cell_type": "code",
   "execution_count": 2,
   "metadata": {},
   "outputs": [],
   "source": [
    "df = pd.read_csv('/Users/omarcarr/Desktop/Notebooks/DSI-US-5/Projects/Project-2/train.csv')\n",
    "kaggle = pd.read_csv('/Users/omarcarr/Desktop/Notebooks/DSI-US-5/Projects/Project-2/test.csv')"
   ]
  },
  {
   "cell_type": "code",
   "execution_count": 3,
   "metadata": {},
   "outputs": [
    {
     "data": {
      "text/plain": [
       "Id                   0\n",
       "PID                  0\n",
       "MS SubClass          0\n",
       "MS Zoning            0\n",
       "Lot Frontage       330\n",
       "Lot Area             0\n",
       "Street               0\n",
       "Alley             1911\n",
       "Lot Shape            0\n",
       "Land Contour         0\n",
       "Utilities            0\n",
       "Lot Config           0\n",
       "Land Slope           0\n",
       "Neighborhood         0\n",
       "Condition 1          0\n",
       "Condition 2          0\n",
       "Bldg Type            0\n",
       "House Style          0\n",
       "Overall Qual         0\n",
       "Overall Cond         0\n",
       "Year Built           0\n",
       "Year Remod/Add       0\n",
       "Roof Style           0\n",
       "Roof Matl            0\n",
       "Exterior 1st         0\n",
       "Exterior 2nd         0\n",
       "Mas Vnr Type        22\n",
       "Mas Vnr Area        22\n",
       "Exter Qual           0\n",
       "Exter Cond           0\n",
       "                  ... \n",
       "Half Bath            0\n",
       "Bedroom AbvGr        0\n",
       "Kitchen AbvGr        0\n",
       "Kitchen Qual         0\n",
       "TotRms AbvGrd        0\n",
       "Functional           0\n",
       "Fireplaces           0\n",
       "Fireplace Qu      1000\n",
       "Garage Type        113\n",
       "Garage Yr Blt      114\n",
       "Garage Finish      114\n",
       "Garage Cars          1\n",
       "Garage Area          1\n",
       "Garage Qual        114\n",
       "Garage Cond        114\n",
       "Paved Drive          0\n",
       "Wood Deck SF         0\n",
       "Open Porch SF        0\n",
       "Enclosed Porch       0\n",
       "3Ssn Porch           0\n",
       "Screen Porch         0\n",
       "Pool Area            0\n",
       "Pool QC           2042\n",
       "Fence             1651\n",
       "Misc Feature      1986\n",
       "Misc Val             0\n",
       "Mo Sold              0\n",
       "Yr Sold              0\n",
       "Sale Type            0\n",
       "SalePrice            0\n",
       "Length: 81, dtype: int64"
      ]
     },
     "execution_count": 3,
     "metadata": {},
     "output_type": "execute_result"
    }
   ],
   "source": [
    "df.isnull().sum()"
   ]
  },
  {
   "cell_type": "code",
   "execution_count": 4,
   "metadata": {},
   "outputs": [],
   "source": [
    "features_list = [each for each in df.columns if each != 'SalePrice']"
   ]
  },
  {
   "cell_type": "code",
   "execution_count": 5,
   "metadata": {},
   "outputs": [],
   "source": [
    "X = df[features_list]\n",
    "y = df['SalePrice']"
   ]
  },
  {
   "cell_type": "code",
   "execution_count": 6,
   "metadata": {},
   "outputs": [],
   "source": [
    "X_train, X_test, y_train, y_test = train_test_split(X, y, random_state=42)"
   ]
  },
  {
   "cell_type": "code",
   "execution_count": 7,
   "metadata": {},
   "outputs": [
    {
     "data": {
      "text/plain": [
       "Id                    0\n",
       "Heating               0\n",
       "Heating QC            0\n",
       "Central Air           0\n",
       "Electrical            0\n",
       "1st Flr SF            0\n",
       "2nd Flr SF            0\n",
       "Low Qual Fin SF       0\n",
       "Gr Liv Area           0\n",
       "Full Bath             0\n",
       "Half Bath             0\n",
       "Bedroom AbvGr         0\n",
       "Kitchen AbvGr         0\n",
       "Kitchen Qual          0\n",
       "TotRms AbvGrd         0\n",
       "Functional            0\n",
       "Fireplaces            0\n",
       "Garage Cars           0\n",
       "Garage Area           0\n",
       "Paved Drive           0\n",
       "Wood Deck SF          0\n",
       "Open Porch SF         0\n",
       "Enclosed Porch        0\n",
       "3Ssn Porch            0\n",
       "Screen Porch          0\n",
       "Pool Area             0\n",
       "Misc Val              0\n",
       "Mo Sold               0\n",
       "Yr Sold               0\n",
       "Foundation            0\n",
       "                   ... \n",
       "Lot Area              0\n",
       "MS Zoning             0\n",
       "MS SubClass           0\n",
       "PID                   0\n",
       "Exterior 2nd          0\n",
       "Exter Cond            0\n",
       "Total Bsmt SF         1\n",
       "BsmtFin SF 1          1\n",
       "BsmtFin SF 2          1\n",
       "Bsmt Unf SF           1\n",
       "Bsmt Full Bath        2\n",
       "Bsmt Half Bath        2\n",
       "Mas Vnr Type         18\n",
       "Mas Vnr Area         18\n",
       "Bsmt Cond            40\n",
       "BsmtFin Type 1       40\n",
       "Bsmt Qual            40\n",
       "BsmtFin Type 2       41\n",
       "Bsmt Exposure        43\n",
       "Garage Qual          88\n",
       "Garage Finish        88\n",
       "Garage Yr Blt        88\n",
       "Garage Type          88\n",
       "Garage Cond          88\n",
       "Lot Frontage        253\n",
       "Fireplace Qu        765\n",
       "Fence              1225\n",
       "Alley              1427\n",
       "Misc Feature       1484\n",
       "Pool QC            1531\n",
       "Length: 80, dtype: int64"
      ]
     },
     "execution_count": 7,
     "metadata": {},
     "output_type": "execute_result"
    }
   ],
   "source": [
    "X_train.isnull().sum().sort_values()"
   ]
  },
  {
   "cell_type": "code",
   "execution_count": 8,
   "metadata": {},
   "outputs": [],
   "source": [
    "top_corr = list(pd.concat([X_train, y_train], axis=1).corr()['SalePrice'].sort_values(ascending=False).index[1:11])"
   ]
  },
  {
   "cell_type": "code",
   "execution_count": 9,
   "metadata": {},
   "outputs": [
    {
     "data": {
      "text/plain": [
       "['Overall Qual',\n",
       " 'Gr Liv Area',\n",
       " 'Garage Cars',\n",
       " 'Garage Area',\n",
       " 'Total Bsmt SF',\n",
       " '1st Flr SF',\n",
       " 'Year Built',\n",
       " 'Year Remod/Add',\n",
       " 'Full Bath',\n",
       " 'Mas Vnr Area']"
      ]
     },
     "execution_count": 9,
     "metadata": {},
     "output_type": "execute_result"
    }
   ],
   "source": [
    "top_corr"
   ]
  },
  {
   "cell_type": "markdown",
   "metadata": {},
   "source": [
    "## Imputing `Mas Vnr Area`\n",
    "\n",
    "*The only column that currently has nulls in it, from my top-ten positively correlated columns, is `Mas Vnr Area`, which indicates the area of masonry veneer on the house.  Comparing it to `Mas Vnr Type`, which the data dictionary says uses `None` for no masonry.  I believe it is justified to replace the `NaN` values in this column with `0` instead.  I am basing this assumption off of the data dictionary.\n",
    "\n",
    "*I will not impute `Mas Vnr Type` at this time."
   ]
  },
  {
   "cell_type": "code",
   "execution_count": 10,
   "metadata": {
    "scrolled": true
   },
   "outputs": [
    {
     "data": {
      "text/plain": [
       "0.0      913\n",
       "120.0     10\n",
       "210.0      8\n",
       "200.0      8\n",
       "16.0       8\n",
       "Name: Mas Vnr Area, dtype: int64"
      ]
     },
     "execution_count": 10,
     "metadata": {},
     "output_type": "execute_result"
    }
   ],
   "source": [
    "#confirming `Mas Vnr Area` is a numerical value:\n",
    "X_train['Mas Vnr Area'].value_counts().head()"
   ]
  },
  {
   "cell_type": "code",
   "execution_count": 11,
   "metadata": {},
   "outputs": [
    {
     "name": "stderr",
     "output_type": "stream",
     "text": [
      "/anaconda3/envs/dsi/lib/python3.6/site-packages/pandas/core/frame.py:3137: SettingWithCopyWarning: \n",
      "A value is trying to be set on a copy of a slice from a DataFrame.\n",
      "Try using .loc[row_indexer,col_indexer] = value instead\n",
      "\n",
      "See the caveats in the documentation: http://pandas.pydata.org/pandas-docs/stable/indexing.html#indexing-view-versus-copy\n",
      "  self[k1] = value[k2]\n"
     ]
    }
   ],
   "source": [
    "X_train[['Mas Vnr Area']] = X_train[['Mas Vnr Area']].fillna(0.0)"
   ]
  },
  {
   "cell_type": "code",
   "execution_count": 12,
   "metadata": {
    "scrolled": true
   },
   "outputs": [
    {
     "data": {
      "text/plain": [
       "Overall Qual      0\n",
       "Gr Liv Area       0\n",
       "Garage Cars       0\n",
       "Garage Area       0\n",
       "Total Bsmt SF     1\n",
       "1st Flr SF        0\n",
       "Year Built        0\n",
       "Year Remod/Add    0\n",
       "Full Bath         0\n",
       "Mas Vnr Area      0\n",
       "dtype: int64"
      ]
     },
     "execution_count": 12,
     "metadata": {},
     "output_type": "execute_result"
    }
   ],
   "source": [
    "X_train[top_corr].isnull().sum()"
   ]
  },
  {
   "cell_type": "markdown",
   "metadata": {},
   "source": [
    "## Imputing Total Bsmt SF"
   ]
  },
  {
   "cell_type": "code",
   "execution_count": 13,
   "metadata": {
    "scrolled": false
   },
   "outputs": [],
   "source": [
    "X_train = X_train[X_train['Total Bsmt SF'].isnull()].fillna(0.0)"
   ]
  },
  {
   "cell_type": "code",
   "execution_count": 14,
   "metadata": {},
   "outputs": [],
   "source": [
    "X_train.loc[1327, 'Total Bsmt SF'] = 0"
   ]
  },
  {
   "cell_type": "code",
   "execution_count": 15,
   "metadata": {},
   "outputs": [
    {
     "data": {
      "text/plain": [
       "Overall Qual      0\n",
       "Gr Liv Area       0\n",
       "Garage Cars       0\n",
       "Garage Area       0\n",
       "Total Bsmt SF     0\n",
       "1st Flr SF        0\n",
       "Year Built        0\n",
       "Year Remod/Add    0\n",
       "Full Bath         0\n",
       "Mas Vnr Area      0\n",
       "dtype: int64"
      ]
     },
     "execution_count": 15,
     "metadata": {},
     "output_type": "execute_result"
    }
   ],
   "source": [
    "X_train[top_corr].isnull().sum()"
   ]
  },
  {
   "cell_type": "code",
   "execution_count": 16,
   "metadata": {},
   "outputs": [
    {
     "data": {
      "text/html": [
       "<div>\n",
       "<style scoped>\n",
       "    .dataframe tbody tr th:only-of-type {\n",
       "        vertical-align: middle;\n",
       "    }\n",
       "\n",
       "    .dataframe tbody tr th {\n",
       "        vertical-align: top;\n",
       "    }\n",
       "\n",
       "    .dataframe thead th {\n",
       "        text-align: right;\n",
       "    }\n",
       "</style>\n",
       "<table border=\"1\" class=\"dataframe\">\n",
       "  <thead>\n",
       "    <tr style=\"text-align: right;\">\n",
       "      <th></th>\n",
       "      <th>Mas Vnr Area</th>\n",
       "      <th>Mas Vnr Type</th>\n",
       "    </tr>\n",
       "  </thead>\n",
       "  <tbody>\n",
       "  </tbody>\n",
       "</table>\n",
       "</div>"
      ],
      "text/plain": [
       "Empty DataFrame\n",
       "Columns: [Mas Vnr Area, Mas Vnr Type]\n",
       "Index: []"
      ]
     },
     "execution_count": 16,
     "metadata": {},
     "output_type": "execute_result"
    }
   ],
   "source": [
    "X_train[X_train['Mas Vnr Area'].isnull()][['Mas Vnr Area', 'Mas Vnr Type']]"
   ]
  },
  {
   "cell_type": "code",
   "execution_count": 17,
   "metadata": {},
   "outputs": [
    {
     "data": {
      "image/png": "[encoded data removed]",
      "text/plain": [
       "<Figure size 432x288 with 2 Axes>"
      ]
     },
     "metadata": {},
     "output_type": "display_data"
    }
   ],
   "source": [
    "sns.heatmap(X_train[top_corr].corr(), vmin=-1, vmax=1);"
   ]
  },
  {
   "cell_type": "markdown",
   "metadata": {},
   "source": [
    "## Sanitize `X_test`"
   ]
  },
  {
   "cell_type": "code",
   "execution_count": 18,
   "metadata": {},
   "outputs": [
    {
     "data": {
      "text/plain": [
       "Overall Qual      0\n",
       "Gr Liv Area       0\n",
       "Garage Cars       1\n",
       "Garage Area       1\n",
       "Total Bsmt SF     0\n",
       "1st Flr SF        0\n",
       "Year Built        0\n",
       "Year Remod/Add    0\n",
       "Full Bath         0\n",
       "Mas Vnr Area      4\n",
       "dtype: int64"
      ]
     },
     "execution_count": 18,
     "metadata": {},
     "output_type": "execute_result"
    }
   ],
   "source": [
    "X_test[top_corr].isnull().sum()"
   ]
  },
  {
   "cell_type": "code",
   "execution_count": 19,
   "metadata": {},
   "outputs": [
    {
     "name": "stderr",
     "output_type": "stream",
     "text": [
      "/anaconda3/envs/dsi/lib/python3.6/site-packages/ipykernel/__main__.py:1: SettingWithCopyWarning: \n",
      "A value is trying to be set on a copy of a slice from a DataFrame.\n",
      "Try using .loc[row_indexer,col_indexer] = value instead\n",
      "\n",
      "See the caveats in the documentation: http://pandas.pydata.org/pandas-docs/stable/indexing.html#indexing-view-versus-copy\n",
      "  if __name__ == '__main__':\n"
     ]
    }
   ],
   "source": [
    "X_test['Garage Area'] = X_test['Garage Area'].fillna(0.0)"
   ]
  },
  {
   "cell_type": "code",
   "execution_count": 20,
   "metadata": {},
   "outputs": [
    {
     "name": "stderr",
     "output_type": "stream",
     "text": [
      "/anaconda3/envs/dsi/lib/python3.6/site-packages/ipykernel/__main__.py:1: SettingWithCopyWarning: \n",
      "A value is trying to be set on a copy of a slice from a DataFrame.\n",
      "Try using .loc[row_indexer,col_indexer] = value instead\n",
      "\n",
      "See the caveats in the documentation: http://pandas.pydata.org/pandas-docs/stable/indexing.html#indexing-view-versus-copy\n",
      "  if __name__ == '__main__':\n"
     ]
    }
   ],
   "source": [
    "X_test['Garage Cars'] = X_test['Garage Cars'].fillna(0.0)"
   ]
  },
  {
   "cell_type": "code",
   "execution_count": 21,
   "metadata": {},
   "outputs": [
    {
     "name": "stderr",
     "output_type": "stream",
     "text": [
      "/anaconda3/envs/dsi/lib/python3.6/site-packages/ipykernel/__main__.py:1: SettingWithCopyWarning: \n",
      "A value is trying to be set on a copy of a slice from a DataFrame.\n",
      "Try using .loc[row_indexer,col_indexer] = value instead\n",
      "\n",
      "See the caveats in the documentation: http://pandas.pydata.org/pandas-docs/stable/indexing.html#indexing-view-versus-copy\n",
      "  if __name__ == '__main__':\n"
     ]
    }
   ],
   "source": [
    "X_test['Mas Vnr Area'] = X_test['Mas Vnr Area'].fillna(0.0)"
   ]
  },
  {
   "cell_type": "code",
   "execution_count": 22,
   "metadata": {},
   "outputs": [
    {
     "data": {
      "text/plain": [
       "Overall Qual      0\n",
       "Gr Liv Area       0\n",
       "Garage Cars       0\n",
       "Garage Area       0\n",
       "Total Bsmt SF     0\n",
       "1st Flr SF        0\n",
       "Year Built        0\n",
       "Year Remod/Add    0\n",
       "Full Bath         0\n",
       "Mas Vnr Area      0\n",
       "dtype: int64"
      ]
     },
     "execution_count": 22,
     "metadata": {},
     "output_type": "execute_result"
    }
   ],
   "source": [
    "X_train[top_corr].isnull().sum()"
   ]
  },
  {
   "cell_type": "code",
   "execution_count": 23,
   "metadata": {},
   "outputs": [
    {
     "data": {
      "text/plain": [
       "Overall Qual      0\n",
       "Gr Liv Area       0\n",
       "Garage Cars       0\n",
       "Garage Area       0\n",
       "Total Bsmt SF     0\n",
       "1st Flr SF        0\n",
       "Year Built        0\n",
       "Year Remod/Add    0\n",
       "Full Bath         0\n",
       "Mas Vnr Area      0\n",
       "dtype: int64"
      ]
     },
     "execution_count": 23,
     "metadata": {},
     "output_type": "execute_result"
    }
   ],
   "source": [
    "X_test[top_corr].isnull().sum()"
   ]
  },
  {
   "cell_type": "markdown",
   "metadata": {},
   "source": [
    "# Let's try `Standard Scalar`\n",
    "\n",
    "And then some models"
   ]
  },
  {
   "cell_type": "code",
   "execution_count": 24,
   "metadata": {},
   "outputs": [],
   "source": [
    "#for the sake of my work, we are overwriting X_train and X_test"
   ]
  },
  {
   "cell_type": "code",
   "execution_count": 25,
   "metadata": {},
   "outputs": [],
   "source": [
    "X_train=X_train[top_corr]\n",
    "X_test=X_test[top_corr]"
   ]
  },
  {
   "cell_type": "code",
   "execution_count": 26,
   "metadata": {},
   "outputs": [
    {
     "data": {
      "text/plain": [
       "StandardScaler(copy=True, with_mean=True, with_std=True)"
      ]
     },
     "execution_count": 26,
     "metadata": {},
     "output_type": "execute_result"
    }
   ],
   "source": [
    "ss=StandardScaler()\n",
    "\n",
    "ss.fit(X_train)"
   ]
  },
  {
   "cell_type": "code",
   "execution_count": 27,
   "metadata": {},
   "outputs": [],
   "source": [
    "X_train_s = ss.transform(X_train)\n",
    "X_test_s=ss.transform(X_test)"
   ]
  },
  {
   "cell_type": "markdown",
   "metadata": {},
   "source": [
    "# Models"
   ]
  },
  {
   "cell_type": "code",
   "execution_count": 28,
   "metadata": {},
   "outputs": [
    {
     "ename": "ValueError",
     "evalue": "Found input variables with inconsistent numbers of samples: [1, 1538]",
     "output_type": "error",
     "traceback": [
      "\u001b[0;31m---------------------------------------------------------------------------\u001b[0m",
      "\u001b[0;31mValueError\u001b[0m                                Traceback (most recent call last)",
      "\u001b[0;32m<ipython-input-28-f20f83c313db>\u001b[0m in \u001b[0;36m<module>\u001b[0;34m()\u001b[0m\n\u001b[1;32m      1\u001b[0m \u001b[0mlr\u001b[0m \u001b[0;34m=\u001b[0m \u001b[0mLinearRegression\u001b[0m\u001b[0;34m(\u001b[0m\u001b[0;34m)\u001b[0m\u001b[0;34m\u001b[0m\u001b[0m\n\u001b[1;32m      2\u001b[0m \u001b[0;34m\u001b[0m\u001b[0m\n\u001b[0;32m----> 3\u001b[0;31m \u001b[0mlr\u001b[0m\u001b[0;34m.\u001b[0m\u001b[0mfit\u001b[0m\u001b[0;34m(\u001b[0m\u001b[0mX_train_s\u001b[0m\u001b[0;34m,\u001b[0m \u001b[0my_train\u001b[0m\u001b[0;34m)\u001b[0m\u001b[0;34m\u001b[0m\u001b[0m\n\u001b[0m",
      "\u001b[0;32m/anaconda3/envs/dsi/lib/python3.6/site-packages/sklearn/linear_model/base.py\u001b[0m in \u001b[0;36mfit\u001b[0;34m(self, X, y, sample_weight)\u001b[0m\n\u001b[1;32m    480\u001b[0m         \u001b[0mn_jobs_\u001b[0m \u001b[0;34m=\u001b[0m \u001b[0mself\u001b[0m\u001b[0;34m.\u001b[0m\u001b[0mn_jobs\u001b[0m\u001b[0;34m\u001b[0m\u001b[0m\n\u001b[1;32m    481\u001b[0m         X, y = check_X_y(X, y, accept_sparse=['csr', 'csc', 'coo'],\n\u001b[0;32m--> 482\u001b[0;31m                          y_numeric=True, multi_output=True)\n\u001b[0m\u001b[1;32m    483\u001b[0m \u001b[0;34m\u001b[0m\u001b[0m\n\u001b[1;32m    484\u001b[0m         \u001b[0;32mif\u001b[0m \u001b[0msample_weight\u001b[0m \u001b[0;32mis\u001b[0m \u001b[0;32mnot\u001b[0m \u001b[0;32mNone\u001b[0m \u001b[0;32mand\u001b[0m \u001b[0mnp\u001b[0m\u001b[0;34m.\u001b[0m\u001b[0matleast_1d\u001b[0m\u001b[0;34m(\u001b[0m\u001b[0msample_weight\u001b[0m\u001b[0;34m)\u001b[0m\u001b[0;34m.\u001b[0m\u001b[0mndim\u001b[0m \u001b[0;34m>\u001b[0m \u001b[0;36m1\u001b[0m\u001b[0;34m:\u001b[0m\u001b[0;34m\u001b[0m\u001b[0m\n",
      "\u001b[0;32m/anaconda3/envs/dsi/lib/python3.6/site-packages/sklearn/utils/validation.py\u001b[0m in \u001b[0;36mcheck_X_y\u001b[0;34m(X, y, accept_sparse, dtype, order, copy, force_all_finite, ensure_2d, allow_nd, multi_output, ensure_min_samples, ensure_min_features, y_numeric, warn_on_dtype, estimator)\u001b[0m\n\u001b[1;32m    581\u001b[0m         \u001b[0my\u001b[0m \u001b[0;34m=\u001b[0m \u001b[0my\u001b[0m\u001b[0;34m.\u001b[0m\u001b[0mastype\u001b[0m\u001b[0;34m(\u001b[0m\u001b[0mnp\u001b[0m\u001b[0;34m.\u001b[0m\u001b[0mfloat64\u001b[0m\u001b[0;34m)\u001b[0m\u001b[0;34m\u001b[0m\u001b[0m\n\u001b[1;32m    582\u001b[0m \u001b[0;34m\u001b[0m\u001b[0m\n\u001b[0;32m--> 583\u001b[0;31m     \u001b[0mcheck_consistent_length\u001b[0m\u001b[0;34m(\u001b[0m\u001b[0mX\u001b[0m\u001b[0;34m,\u001b[0m \u001b[0my\u001b[0m\u001b[0;34m)\u001b[0m\u001b[0;34m\u001b[0m\u001b[0m\n\u001b[0m\u001b[1;32m    584\u001b[0m \u001b[0;34m\u001b[0m\u001b[0m\n\u001b[1;32m    585\u001b[0m     \u001b[0;32mreturn\u001b[0m \u001b[0mX\u001b[0m\u001b[0;34m,\u001b[0m \u001b[0my\u001b[0m\u001b[0;34m\u001b[0m\u001b[0m\n",
      "\u001b[0;32m/anaconda3/envs/dsi/lib/python3.6/site-packages/sklearn/utils/validation.py\u001b[0m in \u001b[0;36mcheck_consistent_length\u001b[0;34m(*arrays)\u001b[0m\n\u001b[1;32m    202\u001b[0m     \u001b[0;32mif\u001b[0m \u001b[0mlen\u001b[0m\u001b[0;34m(\u001b[0m\u001b[0muniques\u001b[0m\u001b[0;34m)\u001b[0m \u001b[0;34m>\u001b[0m \u001b[0;36m1\u001b[0m\u001b[0;34m:\u001b[0m\u001b[0;34m\u001b[0m\u001b[0m\n\u001b[1;32m    203\u001b[0m         raise ValueError(\"Found input variables with inconsistent numbers of\"\n\u001b[0;32m--> 204\u001b[0;31m                          \" samples: %r\" % [int(l) for l in lengths])\n\u001b[0m\u001b[1;32m    205\u001b[0m \u001b[0;34m\u001b[0m\u001b[0m\n\u001b[1;32m    206\u001b[0m \u001b[0;34m\u001b[0m\u001b[0m\n",
      "\u001b[0;31mValueError\u001b[0m: Found input variables with inconsistent numbers of samples: [1, 1538]"
     ]
    }
   ],
   "source": [
    "lr = LinearRegression()\n",
    "\n",
    "lr.fit(X_train_s, y_train)"
   ]
  },
  {
   "cell_type": "code",
   "execution_count": 29,
   "metadata": {},
   "outputs": [
    {
     "ename": "NotFittedError",
     "evalue": "This LinearRegression instance is not fitted yet. Call 'fit' with appropriate arguments before using this method.",
     "output_type": "error",
     "traceback": [
      "\u001b[0;31m---------------------------------------------------------------------------\u001b[0m",
      "\u001b[0;31mNotFittedError\u001b[0m                            Traceback (most recent call last)",
      "\u001b[0;32m<ipython-input-29-14c9ea6a64af>\u001b[0m in \u001b[0;36m<module>\u001b[0;34m()\u001b[0m\n\u001b[0;32m----> 1\u001b[0;31m \u001b[0mlr\u001b[0m\u001b[0;34m.\u001b[0m\u001b[0mscore\u001b[0m\u001b[0;34m(\u001b[0m\u001b[0mX_train_s\u001b[0m\u001b[0;34m,\u001b[0m \u001b[0my_train\u001b[0m\u001b[0;34m)\u001b[0m\u001b[0;34m\u001b[0m\u001b[0m\n\u001b[0m",
      "\u001b[0;32m/anaconda3/envs/dsi/lib/python3.6/site-packages/sklearn/base.py\u001b[0m in \u001b[0;36mscore\u001b[0;34m(self, X, y, sample_weight)\u001b[0m\n\u001b[1;32m    384\u001b[0m \u001b[0;34m\u001b[0m\u001b[0m\n\u001b[1;32m    385\u001b[0m         \u001b[0;32mfrom\u001b[0m \u001b[0;34m.\u001b[0m\u001b[0mmetrics\u001b[0m \u001b[0;32mimport\u001b[0m \u001b[0mr2_score\u001b[0m\u001b[0;34m\u001b[0m\u001b[0m\n\u001b[0;32m--> 386\u001b[0;31m         return r2_score(y, self.predict(X), sample_weight=sample_weight,\n\u001b[0m\u001b[1;32m    387\u001b[0m                         multioutput='variance_weighted')\n\u001b[1;32m    388\u001b[0m \u001b[0;34m\u001b[0m\u001b[0m\n",
      "\u001b[0;32m/anaconda3/envs/dsi/lib/python3.6/site-packages/sklearn/linear_model/base.py\u001b[0m in \u001b[0;36mpredict\u001b[0;34m(self, X)\u001b[0m\n\u001b[1;32m    254\u001b[0m             \u001b[0mReturns\u001b[0m \u001b[0mpredicted\u001b[0m \u001b[0mvalues\u001b[0m\u001b[0;34m.\u001b[0m\u001b[0;34m\u001b[0m\u001b[0m\n\u001b[1;32m    255\u001b[0m         \"\"\"\n\u001b[0;32m--> 256\u001b[0;31m         \u001b[0;32mreturn\u001b[0m \u001b[0mself\u001b[0m\u001b[0;34m.\u001b[0m\u001b[0m_decision_function\u001b[0m\u001b[0;34m(\u001b[0m\u001b[0mX\u001b[0m\u001b[0;34m)\u001b[0m\u001b[0;34m\u001b[0m\u001b[0m\n\u001b[0m\u001b[1;32m    257\u001b[0m \u001b[0;34m\u001b[0m\u001b[0m\n\u001b[1;32m    258\u001b[0m     \u001b[0m_preprocess_data\u001b[0m \u001b[0;34m=\u001b[0m \u001b[0mstaticmethod\u001b[0m\u001b[0;34m(\u001b[0m\u001b[0m_preprocess_data\u001b[0m\u001b[0;34m)\u001b[0m\u001b[0;34m\u001b[0m\u001b[0m\n",
      "\u001b[0;32m/anaconda3/envs/dsi/lib/python3.6/site-packages/sklearn/linear_model/base.py\u001b[0m in \u001b[0;36m_decision_function\u001b[0;34m(self, X)\u001b[0m\n\u001b[1;32m    235\u001b[0m \u001b[0;34m\u001b[0m\u001b[0m\n\u001b[1;32m    236\u001b[0m     \u001b[0;32mdef\u001b[0m \u001b[0m_decision_function\u001b[0m\u001b[0;34m(\u001b[0m\u001b[0mself\u001b[0m\u001b[0;34m,\u001b[0m \u001b[0mX\u001b[0m\u001b[0;34m)\u001b[0m\u001b[0;34m:\u001b[0m\u001b[0;34m\u001b[0m\u001b[0m\n\u001b[0;32m--> 237\u001b[0;31m         \u001b[0mcheck_is_fitted\u001b[0m\u001b[0;34m(\u001b[0m\u001b[0mself\u001b[0m\u001b[0;34m,\u001b[0m \u001b[0;34m\"coef_\"\u001b[0m\u001b[0;34m)\u001b[0m\u001b[0;34m\u001b[0m\u001b[0m\n\u001b[0m\u001b[1;32m    238\u001b[0m \u001b[0;34m\u001b[0m\u001b[0m\n\u001b[1;32m    239\u001b[0m         \u001b[0mX\u001b[0m \u001b[0;34m=\u001b[0m \u001b[0mcheck_array\u001b[0m\u001b[0;34m(\u001b[0m\u001b[0mX\u001b[0m\u001b[0;34m,\u001b[0m \u001b[0maccept_sparse\u001b[0m\u001b[0;34m=\u001b[0m\u001b[0;34m[\u001b[0m\u001b[0;34m'csr'\u001b[0m\u001b[0;34m,\u001b[0m \u001b[0;34m'csc'\u001b[0m\u001b[0;34m,\u001b[0m \u001b[0;34m'coo'\u001b[0m\u001b[0;34m]\u001b[0m\u001b[0;34m)\u001b[0m\u001b[0;34m\u001b[0m\u001b[0m\n",
      "\u001b[0;32m/anaconda3/envs/dsi/lib/python3.6/site-packages/sklearn/utils/validation.py\u001b[0m in \u001b[0;36mcheck_is_fitted\u001b[0;34m(estimator, attributes, msg, all_or_any)\u001b[0m\n\u001b[1;32m    766\u001b[0m \u001b[0;34m\u001b[0m\u001b[0m\n\u001b[1;32m    767\u001b[0m     \u001b[0;32mif\u001b[0m \u001b[0;32mnot\u001b[0m \u001b[0mall_or_any\u001b[0m\u001b[0;34m(\u001b[0m\u001b[0;34m[\u001b[0m\u001b[0mhasattr\u001b[0m\u001b[0;34m(\u001b[0m\u001b[0mestimator\u001b[0m\u001b[0;34m,\u001b[0m \u001b[0mattr\u001b[0m\u001b[0;34m)\u001b[0m \u001b[0;32mfor\u001b[0m \u001b[0mattr\u001b[0m \u001b[0;32min\u001b[0m \u001b[0mattributes\u001b[0m\u001b[0;34m]\u001b[0m\u001b[0;34m)\u001b[0m\u001b[0;34m:\u001b[0m\u001b[0;34m\u001b[0m\u001b[0m\n\u001b[0;32m--> 768\u001b[0;31m         \u001b[0;32mraise\u001b[0m \u001b[0mNotFittedError\u001b[0m\u001b[0;34m(\u001b[0m\u001b[0mmsg\u001b[0m \u001b[0;34m%\u001b[0m \u001b[0;34m{\u001b[0m\u001b[0;34m'name'\u001b[0m\u001b[0;34m:\u001b[0m \u001b[0mtype\u001b[0m\u001b[0;34m(\u001b[0m\u001b[0mestimator\u001b[0m\u001b[0;34m)\u001b[0m\u001b[0;34m.\u001b[0m\u001b[0m__name__\u001b[0m\u001b[0;34m}\u001b[0m\u001b[0;34m)\u001b[0m\u001b[0;34m\u001b[0m\u001b[0m\n\u001b[0m\u001b[1;32m    769\u001b[0m \u001b[0;34m\u001b[0m\u001b[0m\n\u001b[1;32m    770\u001b[0m \u001b[0;34m\u001b[0m\u001b[0m\n",
      "\u001b[0;31mNotFittedError\u001b[0m: This LinearRegression instance is not fitted yet. Call 'fit' with appropriate arguments before using this method."
     ]
    }
   ],
   "source": [
    "lr.score(X_train_s, y_train)"
   ]
  },
  {
   "cell_type": "code",
   "execution_count": 30,
   "metadata": {},
   "outputs": [
    {
     "ename": "NotFittedError",
     "evalue": "This LinearRegression instance is not fitted yet. Call 'fit' with appropriate arguments before using this method.",
     "output_type": "error",
     "traceback": [
      "\u001b[0;31m---------------------------------------------------------------------------\u001b[0m",
      "\u001b[0;31mNotFittedError\u001b[0m                            Traceback (most recent call last)",
      "\u001b[0;32m<ipython-input-30-e6369e9f5d13>\u001b[0m in \u001b[0;36m<module>\u001b[0;34m()\u001b[0m\n\u001b[0;32m----> 1\u001b[0;31m \u001b[0mlr\u001b[0m\u001b[0;34m.\u001b[0m\u001b[0mscore\u001b[0m\u001b[0;34m(\u001b[0m\u001b[0mX_test_s\u001b[0m\u001b[0;34m,\u001b[0m \u001b[0my_test\u001b[0m\u001b[0;34m)\u001b[0m\u001b[0;34m\u001b[0m\u001b[0m\n\u001b[0m",
      "\u001b[0;32m/anaconda3/envs/dsi/lib/python3.6/site-packages/sklearn/base.py\u001b[0m in \u001b[0;36mscore\u001b[0;34m(self, X, y, sample_weight)\u001b[0m\n\u001b[1;32m    384\u001b[0m \u001b[0;34m\u001b[0m\u001b[0m\n\u001b[1;32m    385\u001b[0m         \u001b[0;32mfrom\u001b[0m \u001b[0;34m.\u001b[0m\u001b[0mmetrics\u001b[0m \u001b[0;32mimport\u001b[0m \u001b[0mr2_score\u001b[0m\u001b[0;34m\u001b[0m\u001b[0m\n\u001b[0;32m--> 386\u001b[0;31m         return r2_score(y, self.predict(X), sample_weight=sample_weight,\n\u001b[0m\u001b[1;32m    387\u001b[0m                         multioutput='variance_weighted')\n\u001b[1;32m    388\u001b[0m \u001b[0;34m\u001b[0m\u001b[0m\n",
      "\u001b[0;32m/anaconda3/envs/dsi/lib/python3.6/site-packages/sklearn/linear_model/base.py\u001b[0m in \u001b[0;36mpredict\u001b[0;34m(self, X)\u001b[0m\n\u001b[1;32m    254\u001b[0m             \u001b[0mReturns\u001b[0m \u001b[0mpredicted\u001b[0m \u001b[0mvalues\u001b[0m\u001b[0;34m.\u001b[0m\u001b[0;34m\u001b[0m\u001b[0m\n\u001b[1;32m    255\u001b[0m         \"\"\"\n\u001b[0;32m--> 256\u001b[0;31m         \u001b[0;32mreturn\u001b[0m \u001b[0mself\u001b[0m\u001b[0;34m.\u001b[0m\u001b[0m_decision_function\u001b[0m\u001b[0;34m(\u001b[0m\u001b[0mX\u001b[0m\u001b[0;34m)\u001b[0m\u001b[0;34m\u001b[0m\u001b[0m\n\u001b[0m\u001b[1;32m    257\u001b[0m \u001b[0;34m\u001b[0m\u001b[0m\n\u001b[1;32m    258\u001b[0m     \u001b[0m_preprocess_data\u001b[0m \u001b[0;34m=\u001b[0m \u001b[0mstaticmethod\u001b[0m\u001b[0;34m(\u001b[0m\u001b[0m_preprocess_data\u001b[0m\u001b[0;34m)\u001b[0m\u001b[0;34m\u001b[0m\u001b[0m\n",
      "\u001b[0;32m/anaconda3/envs/dsi/lib/python3.6/site-packages/sklearn/linear_model/base.py\u001b[0m in \u001b[0;36m_decision_function\u001b[0;34m(self, X)\u001b[0m\n\u001b[1;32m    235\u001b[0m \u001b[0;34m\u001b[0m\u001b[0m\n\u001b[1;32m    236\u001b[0m     \u001b[0;32mdef\u001b[0m \u001b[0m_decision_function\u001b[0m\u001b[0;34m(\u001b[0m\u001b[0mself\u001b[0m\u001b[0;34m,\u001b[0m \u001b[0mX\u001b[0m\u001b[0;34m)\u001b[0m\u001b[0;34m:\u001b[0m\u001b[0;34m\u001b[0m\u001b[0m\n\u001b[0;32m--> 237\u001b[0;31m         \u001b[0mcheck_is_fitted\u001b[0m\u001b[0;34m(\u001b[0m\u001b[0mself\u001b[0m\u001b[0;34m,\u001b[0m \u001b[0;34m\"coef_\"\u001b[0m\u001b[0;34m)\u001b[0m\u001b[0;34m\u001b[0m\u001b[0m\n\u001b[0m\u001b[1;32m    238\u001b[0m \u001b[0;34m\u001b[0m\u001b[0m\n\u001b[1;32m    239\u001b[0m         \u001b[0mX\u001b[0m \u001b[0;34m=\u001b[0m \u001b[0mcheck_array\u001b[0m\u001b[0;34m(\u001b[0m\u001b[0mX\u001b[0m\u001b[0;34m,\u001b[0m \u001b[0maccept_sparse\u001b[0m\u001b[0;34m=\u001b[0m\u001b[0;34m[\u001b[0m\u001b[0;34m'csr'\u001b[0m\u001b[0;34m,\u001b[0m \u001b[0;34m'csc'\u001b[0m\u001b[0;34m,\u001b[0m \u001b[0;34m'coo'\u001b[0m\u001b[0;34m]\u001b[0m\u001b[0;34m)\u001b[0m\u001b[0;34m\u001b[0m\u001b[0m\n",
      "\u001b[0;32m/anaconda3/envs/dsi/lib/python3.6/site-packages/sklearn/utils/validation.py\u001b[0m in \u001b[0;36mcheck_is_fitted\u001b[0;34m(estimator, attributes, msg, all_or_any)\u001b[0m\n\u001b[1;32m    766\u001b[0m \u001b[0;34m\u001b[0m\u001b[0m\n\u001b[1;32m    767\u001b[0m     \u001b[0;32mif\u001b[0m \u001b[0;32mnot\u001b[0m \u001b[0mall_or_any\u001b[0m\u001b[0;34m(\u001b[0m\u001b[0;34m[\u001b[0m\u001b[0mhasattr\u001b[0m\u001b[0;34m(\u001b[0m\u001b[0mestimator\u001b[0m\u001b[0;34m,\u001b[0m \u001b[0mattr\u001b[0m\u001b[0;34m)\u001b[0m \u001b[0;32mfor\u001b[0m \u001b[0mattr\u001b[0m \u001b[0;32min\u001b[0m \u001b[0mattributes\u001b[0m\u001b[0;34m]\u001b[0m\u001b[0;34m)\u001b[0m\u001b[0;34m:\u001b[0m\u001b[0;34m\u001b[0m\u001b[0m\n\u001b[0;32m--> 768\u001b[0;31m         \u001b[0;32mraise\u001b[0m \u001b[0mNotFittedError\u001b[0m\u001b[0;34m(\u001b[0m\u001b[0mmsg\u001b[0m \u001b[0;34m%\u001b[0m \u001b[0;34m{\u001b[0m\u001b[0;34m'name'\u001b[0m\u001b[0;34m:\u001b[0m \u001b[0mtype\u001b[0m\u001b[0;34m(\u001b[0m\u001b[0mestimator\u001b[0m\u001b[0;34m)\u001b[0m\u001b[0;34m.\u001b[0m\u001b[0m__name__\u001b[0m\u001b[0;34m}\u001b[0m\u001b[0;34m)\u001b[0m\u001b[0;34m\u001b[0m\u001b[0m\n\u001b[0m\u001b[1;32m    769\u001b[0m \u001b[0;34m\u001b[0m\u001b[0m\n\u001b[1;32m    770\u001b[0m \u001b[0;34m\u001b[0m\u001b[0m\n",
      "\u001b[0;31mNotFittedError\u001b[0m: This LinearRegression instance is not fitted yet. Call 'fit' with appropriate arguments before using this method."
     ]
    }
   ],
   "source": [
    "lr.score(X_test_s, y_test)"
   ]
  },
  {
   "cell_type": "code",
   "execution_count": 31,
   "metadata": {},
   "outputs": [],
   "source": [
    "from sklearn.metrics import mean_squared_error"
   ]
  },
  {
   "cell_type": "code",
   "execution_count": 32,
   "metadata": {},
   "outputs": [
    {
     "ename": "NotFittedError",
     "evalue": "This LinearRegression instance is not fitted yet. Call 'fit' with appropriate arguments before using this method.",
     "output_type": "error",
     "traceback": [
      "\u001b[0;31m---------------------------------------------------------------------------\u001b[0m",
      "\u001b[0;31mNotFittedError\u001b[0m                            Traceback (most recent call last)",
      "\u001b[0;32m<ipython-input-32-9d5a0816d85e>\u001b[0m in \u001b[0;36m<module>\u001b[0;34m()\u001b[0m\n\u001b[0;32m----> 1\u001b[0;31m \u001b[0mmean_squared_error\u001b[0m\u001b[0;34m(\u001b[0m\u001b[0my_test\u001b[0m\u001b[0;34m,\u001b[0m \u001b[0mlr\u001b[0m\u001b[0;34m.\u001b[0m\u001b[0mpredict\u001b[0m\u001b[0;34m(\u001b[0m\u001b[0mX_test_s\u001b[0m\u001b[0;34m)\u001b[0m\u001b[0;34m)\u001b[0m \u001b[0;34m**\u001b[0m \u001b[0;36m0.5\u001b[0m\u001b[0;34m\u001b[0m\u001b[0m\n\u001b[0m",
      "\u001b[0;32m/anaconda3/envs/dsi/lib/python3.6/site-packages/sklearn/linear_model/base.py\u001b[0m in \u001b[0;36mpredict\u001b[0;34m(self, X)\u001b[0m\n\u001b[1;32m    254\u001b[0m             \u001b[0mReturns\u001b[0m \u001b[0mpredicted\u001b[0m \u001b[0mvalues\u001b[0m\u001b[0;34m.\u001b[0m\u001b[0;34m\u001b[0m\u001b[0m\n\u001b[1;32m    255\u001b[0m         \"\"\"\n\u001b[0;32m--> 256\u001b[0;31m         \u001b[0;32mreturn\u001b[0m \u001b[0mself\u001b[0m\u001b[0;34m.\u001b[0m\u001b[0m_decision_function\u001b[0m\u001b[0;34m(\u001b[0m\u001b[0mX\u001b[0m\u001b[0;34m)\u001b[0m\u001b[0;34m\u001b[0m\u001b[0m\n\u001b[0m\u001b[1;32m    257\u001b[0m \u001b[0;34m\u001b[0m\u001b[0m\n\u001b[1;32m    258\u001b[0m     \u001b[0m_preprocess_data\u001b[0m \u001b[0;34m=\u001b[0m \u001b[0mstaticmethod\u001b[0m\u001b[0;34m(\u001b[0m\u001b[0m_preprocess_data\u001b[0m\u001b[0;34m)\u001b[0m\u001b[0;34m\u001b[0m\u001b[0m\n",
      "\u001b[0;32m/anaconda3/envs/dsi/lib/python3.6/site-packages/sklearn/linear_model/base.py\u001b[0m in \u001b[0;36m_decision_function\u001b[0;34m(self, X)\u001b[0m\n\u001b[1;32m    235\u001b[0m \u001b[0;34m\u001b[0m\u001b[0m\n\u001b[1;32m    236\u001b[0m     \u001b[0;32mdef\u001b[0m \u001b[0m_decision_function\u001b[0m\u001b[0;34m(\u001b[0m\u001b[0mself\u001b[0m\u001b[0;34m,\u001b[0m \u001b[0mX\u001b[0m\u001b[0;34m)\u001b[0m\u001b[0;34m:\u001b[0m\u001b[0;34m\u001b[0m\u001b[0m\n\u001b[0;32m--> 237\u001b[0;31m         \u001b[0mcheck_is_fitted\u001b[0m\u001b[0;34m(\u001b[0m\u001b[0mself\u001b[0m\u001b[0;34m,\u001b[0m \u001b[0;34m\"coef_\"\u001b[0m\u001b[0;34m)\u001b[0m\u001b[0;34m\u001b[0m\u001b[0m\n\u001b[0m\u001b[1;32m    238\u001b[0m \u001b[0;34m\u001b[0m\u001b[0m\n\u001b[1;32m    239\u001b[0m         \u001b[0mX\u001b[0m \u001b[0;34m=\u001b[0m \u001b[0mcheck_array\u001b[0m\u001b[0;34m(\u001b[0m\u001b[0mX\u001b[0m\u001b[0;34m,\u001b[0m \u001b[0maccept_sparse\u001b[0m\u001b[0;34m=\u001b[0m\u001b[0;34m[\u001b[0m\u001b[0;34m'csr'\u001b[0m\u001b[0;34m,\u001b[0m \u001b[0;34m'csc'\u001b[0m\u001b[0;34m,\u001b[0m \u001b[0;34m'coo'\u001b[0m\u001b[0;34m]\u001b[0m\u001b[0;34m)\u001b[0m\u001b[0;34m\u001b[0m\u001b[0m\n",
      "\u001b[0;32m/anaconda3/envs/dsi/lib/python3.6/site-packages/sklearn/utils/validation.py\u001b[0m in \u001b[0;36mcheck_is_fitted\u001b[0;34m(estimator, attributes, msg, all_or_any)\u001b[0m\n\u001b[1;32m    766\u001b[0m \u001b[0;34m\u001b[0m\u001b[0m\n\u001b[1;32m    767\u001b[0m     \u001b[0;32mif\u001b[0m \u001b[0;32mnot\u001b[0m \u001b[0mall_or_any\u001b[0m\u001b[0;34m(\u001b[0m\u001b[0;34m[\u001b[0m\u001b[0mhasattr\u001b[0m\u001b[0;34m(\u001b[0m\u001b[0mestimator\u001b[0m\u001b[0;34m,\u001b[0m \u001b[0mattr\u001b[0m\u001b[0;34m)\u001b[0m \u001b[0;32mfor\u001b[0m \u001b[0mattr\u001b[0m \u001b[0;32min\u001b[0m \u001b[0mattributes\u001b[0m\u001b[0;34m]\u001b[0m\u001b[0;34m)\u001b[0m\u001b[0;34m:\u001b[0m\u001b[0;34m\u001b[0m\u001b[0m\n\u001b[0;32m--> 768\u001b[0;31m         \u001b[0;32mraise\u001b[0m \u001b[0mNotFittedError\u001b[0m\u001b[0;34m(\u001b[0m\u001b[0mmsg\u001b[0m \u001b[0;34m%\u001b[0m \u001b[0;34m{\u001b[0m\u001b[0;34m'name'\u001b[0m\u001b[0;34m:\u001b[0m \u001b[0mtype\u001b[0m\u001b[0;34m(\u001b[0m\u001b[0mestimator\u001b[0m\u001b[0;34m)\u001b[0m\u001b[0;34m.\u001b[0m\u001b[0m__name__\u001b[0m\u001b[0;34m}\u001b[0m\u001b[0;34m)\u001b[0m\u001b[0;34m\u001b[0m\u001b[0m\n\u001b[0m\u001b[1;32m    769\u001b[0m \u001b[0;34m\u001b[0m\u001b[0m\n\u001b[1;32m    770\u001b[0m \u001b[0;34m\u001b[0m\u001b[0m\n",
      "\u001b[0;31mNotFittedError\u001b[0m: This LinearRegression instance is not fitted yet. Call 'fit' with appropriate arguments before using this method."
     ]
    }
   ],
   "source": [
    "mean_squared_error(y_test, lr.predict(X_test_s)) ** 0.5"
   ]
  },
  {
   "cell_type": "markdown",
   "metadata": {},
   "source": [
    "# Refit on full dataset"
   ]
  },
  {
   "cell_type": "code",
   "execution_count": 33,
   "metadata": {},
   "outputs": [
    {
     "data": {
      "text/plain": [
       "Overall Qual       0\n",
       "Gr Liv Area        0\n",
       "Garage Cars        1\n",
       "Garage Area        1\n",
       "Total Bsmt SF      1\n",
       "1st Flr SF         0\n",
       "Year Built         0\n",
       "Year Remod/Add     0\n",
       "Full Bath          0\n",
       "Mas Vnr Area      22\n",
       "dtype: int64"
      ]
     },
     "execution_count": 33,
     "metadata": {},
     "output_type": "execute_result"
    }
   ],
   "source": [
    "X[top_corr].isnull().sum()"
   ]
  },
  {
   "cell_type": "code",
   "execution_count": 34,
   "metadata": {},
   "outputs": [],
   "source": [
    "X_new = X[top_corr].fillna(0.0)"
   ]
  },
  {
   "cell_type": "code",
   "execution_count": 35,
   "metadata": {},
   "outputs": [],
   "source": [
    "ss = StandardScaler()\n",
    "\n",
    "ss.fit (X_new)\n",
    "X_new_s = ss.transform(X_new)"
   ]
  },
  {
   "cell_type": "code",
   "execution_count": 36,
   "metadata": {},
   "outputs": [
    {
     "data": {
      "text/plain": [
       "LinearRegression(copy_X=True, fit_intercept=True, n_jobs=1, normalize=False)"
      ]
     },
     "execution_count": 36,
     "metadata": {},
     "output_type": "execute_result"
    }
   ],
   "source": [
    "lr = LinearRegression()\n",
    "\n",
    "lr.fit(X_new_s, y)"
   ]
  },
  {
   "cell_type": "code",
   "execution_count": 37,
   "metadata": {},
   "outputs": [],
   "source": [
    "kaggle_new = kaggle[top_corr].fillna(0.0)"
   ]
  },
  {
   "cell_type": "code",
   "execution_count": 38,
   "metadata": {},
   "outputs": [],
   "source": [
    "kaggle_new_s = ss.transform(kaggle_new)"
   ]
  },
  {
   "cell_type": "code",
   "execution_count": 39,
   "metadata": {},
   "outputs": [
    {
     "data": {
      "text/plain": [
       "array([154793.65836753, 205851.29821814, 192470.89658254, 130040.43639105,\n",
       "       185943.28834345,  88903.36968093, 113926.01567133, 146333.47266378,\n",
       "       210374.17620583, 166819.04970057, 172027.75167778, 145122.08543295,\n",
       "       167135.23451469, 275795.0511896 , 170064.14909061, 136771.80822903,\n",
       "       154325.90274367, 116631.50428766, 204027.29434329, 202048.70218142,\n",
       "       133193.07349171, 120947.88498008, 206057.12106578, 147985.34342783,\n",
       "       209722.29496031, 110305.60387299, 131308.40550122, 133724.95679188,\n",
       "       152910.91226985,  17530.70489407, 100089.78034721,  97693.58438835,\n",
       "       266182.84536488, 154001.84009527, 229536.47917993, 192053.73365678,\n",
       "       121872.21787084,  80681.21760648, 113764.60903196, 211261.46092758,\n",
       "       167495.54954155, 215103.9420198 , 164695.99168743, 150417.5275891 ,\n",
       "       225844.92556042, 103323.90155747, 223450.80485724, 110258.68065382,\n",
       "       121620.96947432, 117300.32871585, 105694.29935743, 222453.46090918,\n",
       "       274409.32884728, 130016.03852059, 113667.80502285, 162336.95992719,\n",
       "       170400.16564347, 147700.45253171, 180066.68868444, 234673.29772721,\n",
       "       314926.18427924, 121728.44552994, 153219.77622634, 192359.9862707 ,\n",
       "       175703.47862241, 318988.17556967,  73709.00665265, 205275.43864378,\n",
       "        48751.20582109, 161161.37464093,  77783.66521766, 299283.46527561,\n",
       "       206123.36106613, 183240.95369136, 130751.94483708, 220249.86886378,\n",
       "       519535.91250406, 171688.93382506, 161536.35247855,  88284.95669618,\n",
       "       324300.9148805 , 221922.67689694, 132246.21844739, 129259.28043104,\n",
       "       113866.78308249, 180444.41353464, 330494.39278089, 121036.49837427,\n",
       "       187405.48460803, 269133.87250032, 176745.34271836, 126922.81911327,\n",
       "       104596.34627145, 145220.70117749, 209347.32317101, 116715.94672291,\n",
       "       145394.96347705, 150079.96874685, 254178.55634424, 190056.97673341,\n",
       "       224227.31201176, 273562.4524494 , 199941.38037687, 119104.52557013,\n",
       "       402810.64638048, 149565.31931264,  94667.97239615, 171705.19881527,\n",
       "       195490.34267058, 213462.66692574, 144001.83122276, 197702.96263362,\n",
       "       243391.41777916, 110884.4747208 , 135830.22536383, 217660.26091159,\n",
       "       445960.03014656, 150199.37557119, 135549.9631003 , 310117.8923885 ,\n",
       "       184342.17442067, 370847.70377247, 294808.70494525, 286761.20928934,\n",
       "       170095.9605006 , 133922.51094653, 330476.88898413, 108382.66308668,\n",
       "       126791.32875845, 114174.01396351, 289445.83530257, 129879.50483594,\n",
       "       185688.1960991 , 138653.24698278, 169076.33458587, 183635.46122124,\n",
       "       233887.72559187, 216242.29459205, 200191.50231552, 205275.43864378,\n",
       "       110524.14378958, 194686.74822258, 127801.24135243, 142921.72037805,\n",
       "       177585.74281619,  96059.82644535, 166226.48912762, 161515.108509  ,\n",
       "       154868.02977786,  55434.0316039 , 233723.54938332, 212139.48016404,\n",
       "       156308.17225395, 130739.11142186, 107620.7002867 , 103124.47461222,\n",
       "       121631.26993828,  73280.06148263, 140798.6702965 , 241215.79424936,\n",
       "       286747.15872753, 206630.72528332, 121746.76405475, 130978.64223143,\n",
       "       404126.06628914, 279858.55140231, 279681.5291538 , 180468.16600507,\n",
       "       193693.1592794 , 242533.22909097, 218314.53874778, 446595.75893741,\n",
       "       143390.44919093, 170801.86377065, 177895.98749318, 211650.68112939,\n",
       "       182700.98704197,  72850.74957401, 208598.13195835,  87702.5471623 ,\n",
       "       131727.16246058, 113436.18236515, 217131.07224861, 240343.01838406,\n",
       "       195318.53325038, 174486.54708844, 121619.61441188, 194053.84172688,\n",
       "       211782.37487864, 120616.06343429,  62554.26286919, 190777.35963647,\n",
       "       114245.99045206, 123314.03106599, 102618.41035539, 176069.43319891,\n",
       "       145770.12843738, 271218.79743179, 116359.53327876, 141880.10082625,\n",
       "       125131.52854806, 309587.56351022, 216952.46675788, 129255.39003343,\n",
       "       188075.88019637, 146027.42638024,  83204.9854824 , 161041.44376557,\n",
       "       154789.94486811, 238344.79999553, 217389.83133882, 189199.86319101,\n",
       "       194164.28923351, 111487.60917929, 241831.40097016, 271508.90607124,\n",
       "       203269.07372386, 237245.84432934, 164437.52608118,  57210.33140973,\n",
       "       130868.7297922 , 198872.28389409, 167882.07082173, 192986.40641296,\n",
       "       175656.71188127, 120390.56857389,  99597.71840694, 271296.56426398,\n",
       "       235007.05351439, 133633.05112663, 301799.24069398, 151970.82744921,\n",
       "        56535.20122706, 142527.81638758,  73581.9445534 , 292746.57455171,\n",
       "       167751.28552817,  85890.34790933, 364505.83448131, 318826.997401  ,\n",
       "       210518.20433854, 252244.12558771, 172927.81414188, 294120.31275388,\n",
       "       246890.51032359, 315874.79302012, 283285.0284206 , 125732.068876  ,\n",
       "        93467.82226317, 196252.50666002, 308343.0234147 , 269943.42336771,\n",
       "       169213.29234905, 245455.29972717, 231918.33940013, 187877.73254374,\n",
       "        60445.22068638,  79682.1770637 , 374234.3629995 , 217529.65340153,\n",
       "       270729.27946861, 182157.23985958, 143067.6104087 , 148339.3844595 ,\n",
       "       154738.11128626, 223141.56030361, 194409.56009176, 134637.46072112,\n",
       "       209936.66979466, 182170.35777197, 171891.11010949, 206197.67387818,\n",
       "       205512.83574654, 179624.70477332, 346445.65933305, 102541.49309615,\n",
       "       133067.34999899, 161483.23682115, 169975.16361121, 102825.70908833,\n",
       "       115075.24436671, 249617.77924138, 129743.83760032, 114261.1579824 ,\n",
       "       100708.77281255, 136629.10706741, 212866.83510351, 185299.40100574,\n",
       "       136653.49239549, 111159.1063999 , 129858.22087427, 104835.5753012 ,\n",
       "       166600.18350639,  91305.0147182 ,  92341.72214559, 165728.07354929,\n",
       "       161161.37464093, 227346.48034039, 243710.30131389, 242486.69091637,\n",
       "       154576.77798338, 189088.4203096 , 309286.90235577, 138281.21542122,\n",
       "       154091.85916564,  77020.05666036,  97164.64601903, 175588.85808747,\n",
       "       211381.86249531, 127232.2649673 , 117253.83778291, 188891.48703171,\n",
       "       228655.02542978, 244008.61166203, 284594.79303786, 126023.64243315,\n",
       "       327121.79762658, 324326.99219985, 257287.81103942, 247103.60042171,\n",
       "       118318.67508202,  46127.59476283, 111138.54815058, 126330.01087756,\n",
       "       274583.24481179, 125925.05618248, 141508.67450011, 159208.1780259 ,\n",
       "       193326.99316566, 207054.27300849, 141043.12455817, 210360.85369068,\n",
       "       187486.21840588, 170027.74768422, 211195.15917186, 103669.8379004 ,\n",
       "       166188.21886649,  80881.95465398,  97092.6979951 , 137664.4773495 ,\n",
       "       175404.40333617, 190360.64944326,  95862.6067887 , 115558.15920544,\n",
       "       189245.52371828, 282333.4862026 , 239220.25859804, 185769.12282317,\n",
       "       108407.81261552, 194498.38507647, 146242.54470934, 177869.44139009,\n",
       "       167751.46736392, 147578.57781939, 271137.01203953, 122633.29071808,\n",
       "       289141.94457056, 173368.99008962, 218105.14707931, 259286.82374792,\n",
       "       118948.19544899, 143602.8905576 , 149946.78766572,  95571.59039528,\n",
       "       195425.97072802, 221205.45247141, 271556.18997009, 200136.0955799 ,\n",
       "       197128.38018538, 226853.77653943, 100079.06326467, 257161.39075612,\n",
       "       139258.50855012, 165097.73423363, 368681.87370057, 124723.31757167,\n",
       "       279233.24812385, 169081.75063954, 257999.54769314, 219620.00641886,\n",
       "       129200.52341007, 146629.131766  , 173801.6055644 , 313395.59417404,\n",
       "       295581.14152856, 214916.73367848, 181592.5000498 , 184901.28969809,\n",
       "       182264.29970105, 135936.43242495, 145440.29174842, 127481.05863548,\n",
       "       263560.90019776, 171707.52705857, 116330.95509642, 216180.80039921,\n",
       "        45908.26865568, 188808.8907477 , 172951.1773026 , 128401.61071475,\n",
       "        96432.78751352, 226408.29447299, 237783.75247966, 104290.37288026,\n",
       "       286725.99590986, 141870.27264066, 115416.06172905, 128581.11724589,\n",
       "       229493.94790633, 263035.80121411, 125048.95894746, 144158.49462261,\n",
       "       148056.82942778, 264765.87011624, 145503.3570912 , 272042.72525271,\n",
       "       329280.35059674, 102819.56126145, 256783.24015992, 103141.90435547,\n",
       "       186588.51049381, 248228.35219147, 113503.9844946 , 244472.38864595,\n",
       "       131440.97571225, 245421.53207842, 352264.75353854, 211093.95661467,\n",
       "       218306.66735743, 155769.35059978, 291499.55601376, 105248.49274729,\n",
       "       135612.01059715, 130972.23099945, 202087.6351345 , 100778.88796013,\n",
       "       295129.51312123, 215174.76557761, 175914.61806011, 169833.16410398,\n",
       "       189409.21514423, 211960.06707779, 135303.48708416, 137864.09278879,\n",
       "       170906.08272886, 168944.89002151, 171047.31018884,  45618.92477243,\n",
       "        60128.07749448, 293106.6637644 , 133448.64058068, 218173.22138294,\n",
       "       284760.95664497, 218460.6599422 , 179259.40106535, 203686.39023102,\n",
       "       237850.69691928, 219914.44028826, 112768.16063812, 232951.17251684,\n",
       "       126683.09750651, 154248.07607422, 128396.8571959 , 160317.42586793,\n",
       "       487409.84173589, 119885.2041027 , 218872.95639024, 216585.13556851,\n",
       "       253086.76849429, 125132.36812275, 109923.73253026, 128173.37800785,\n",
       "       257783.95170151, 168487.90961931, 111070.91877211, 250738.12502679,\n",
       "       246422.30776836, 109720.78026395, 153196.71319783, 101191.2378115 ,\n",
       "       185915.24222681,  65538.70701132, 248772.1111959 ,  74457.30375956,\n",
       "       189894.50093716, 294395.65220135, 147391.4491788 , 162043.54923527,\n",
       "       186764.16626595, 204473.7642193 , 140124.68823562, 164766.49716047,\n",
       "       227801.56452107, 192286.40882375, 225490.03022975, 305319.18271906,\n",
       "       211837.8389209 , 108109.93209097, 127589.1047931 , 176408.49459788,\n",
       "       113998.24454199, 173866.39642022, 259800.03594681, 185814.08206761,\n",
       "       173207.46025356, 230242.11336639, 127241.65364642, 264740.27861589,\n",
       "       110709.64174532, 118820.1401659 , 270381.39580503, 107453.44560568,\n",
       "       146597.9894769 , 133452.19671498, 138332.36759234,   1559.13255212,\n",
       "       197950.50507661, 155519.24594129, 192700.55757988, 280504.32284978,\n",
       "       277787.3371585 , 117074.39455105, 141339.27484878, 123699.69257028,\n",
       "       111185.18688219, 232650.93944771, 368264.18688642, 195681.69811793,\n",
       "       119761.52609465, 129446.93318531,  -2439.69896321, 148559.97882377,\n",
       "       189769.63083452, 159330.03778632, 210092.2031473 , 163501.0906177 ,\n",
       "       139240.54789281,  73280.06148263, 222402.93007529, 153529.3661186 ,\n",
       "       188197.95580197, 154504.59056088,  87818.54791862,  69756.86438809,\n",
       "       170147.97739162, 233456.75553125, 304564.73295271, 234198.26068159,\n",
       "        95871.97193142, 132323.21211418, 278923.06019341, 116083.87780587,\n",
       "       309318.54699739,  90267.51738085, 176696.91678873, 230002.08015027,\n",
       "        71728.39221577, 128282.90351254, 162879.82891307, 123759.09556654,\n",
       "       164967.32498933, 114246.19403127, 186658.79879954, 174215.82631484,\n",
       "       141001.42518815, 150762.32282971, 118443.5334158 , 132602.51848639,\n",
       "       235456.11705301, 127243.93055647, 147305.60043077, 173677.94907985,\n",
       "       120214.80399349,  83351.34714626, 143774.39507127, 189309.24747766,\n",
       "       128201.18700825, 182785.31546675, 162043.54923527, 213734.12860382,\n",
       "       114978.37188255, 175361.54784479, 154221.85207775, 285013.63099892,\n",
       "        98137.94159212, 167062.60339929, 160234.80228434, 151073.81705581,\n",
       "       114874.75488445, 283986.14533745, 222558.54690635, 126740.92401141,\n",
       "        87998.59207894, 139936.6311884 , 134810.29868762, 324504.03058588,\n",
       "       221954.51424679, 117549.8439512 , 140275.99078912, 111916.84199018,\n",
       "       313445.94374955, 134278.52210001, 221139.44051077, 121846.55859414,\n",
       "       172274.91234553, 232514.58305524,  81014.02771507, 120142.12996697,\n",
       "       102412.37729008, 181724.266097  , 111956.12242925,  98811.51993593,\n",
       "       330575.87524243, 219038.72515231, 113901.21919625, 140376.31976646,\n",
       "         6786.45371372, 207701.93545576, 276762.63500737,  67908.0331283 ,\n",
       "       182788.72408829, 209661.51911334, 144117.8095229 , 162616.9853668 ,\n",
       "       108608.82140394, 149957.74336198, 192537.76380507, 198566.31569469,\n",
       "       130520.92034709, 317654.67288515, 154029.10390752, 199186.78595325,\n",
       "       202409.39978485, 109884.96057599,  46276.14482469, 146561.04853225,\n",
       "       220560.65175858, 193366.05889624, 185199.19835821, 134581.85729038,\n",
       "       144808.01416971, 292293.72282321, 126800.67387899, 201322.76087035,\n",
       "       263665.17975085, 152582.34895763,  52624.7066294 , 272675.40871606,\n",
       "       187638.20613437, 171432.93385071, 186359.59193592, 137140.73338873,\n",
       "       113687.35084411, 102183.96220487, 151513.44900133,  34122.23018591,\n",
       "       141497.33383225, 216881.85569824, 158211.58607247, 253170.11793565,\n",
       "       201304.77245882, 161547.05043665, 192190.40389435, 205953.99136706,\n",
       "       236830.30867922, 355687.51661282, 249275.59722921, 223448.76171202,\n",
       "       165873.59157579, 157332.08667633, 307329.55242877, 235324.69789501,\n",
       "       297247.11872711, 222763.4486507 , 130859.58262259, 113259.2905708 ,\n",
       "       149471.5902085 , 158306.18793485,  89503.78094025, 139879.78687373,\n",
       "       103757.20825224, 332429.09903249, 209335.21853793, 186856.28534163,\n",
       "       265280.65782157, 191321.44742372, 171169.85972965, 220173.31359267,\n",
       "       327248.57714703, 119973.30579654, 200816.82521824,  58461.72890522,\n",
       "       109333.37652972, 222976.10399043, 119762.12812764, 211497.55541264,\n",
       "       168589.20699763, 215975.98963014, 301288.6390578 ,  95701.31928539,\n",
       "       259861.85944778, 163487.10766236, 140692.64376281, 176162.81868767,\n",
       "       117332.8241436 , 294065.5600652 , 248098.64587239, 158194.44962012,\n",
       "       135767.67231999, 107411.68517785, 313181.08258389, 228051.95166988,\n",
       "        92836.96756578, 126231.625266  , 124997.97980418, 124841.96396907,\n",
       "       193857.2458346 , 265066.88273167, 249088.1590542 , 187076.71932197,\n",
       "       237239.85385433, 226694.91879083, 282919.43298325, 124718.25768429,\n",
       "       124189.79598865, 287743.08652804, 191396.10266102, 207658.70354781,\n",
       "       106358.05880741, 276370.21377305,  69860.11820259, 233352.83188833,\n",
       "       206137.86028749, 266451.27298121, 156893.5665282 , 213328.20643138,\n",
       "       153435.63828347, 153209.81807191, 158977.51035543, 152261.58280966,\n",
       "       131608.73945072, 224701.21407641, 165752.54320356, 171213.94444467,\n",
       "       116608.40543558, 167609.54722374, 189386.2642415 , 206334.90866576,\n",
       "       236560.56936115, 141652.9337598 , 305831.47509286, 287937.53002864,\n",
       "       151701.39423778, 161641.34728848, 184159.62078898, 114599.94514579,\n",
       "       147537.40755556, 380650.82605068,  80214.09267907, 154421.79767851,\n",
       "       236661.60881775, 136856.30438281, 232603.37433605, 138090.3275253 ,\n",
       "       214380.3427733 , 176667.58510441, 294009.05326834, 193825.18122046,\n",
       "       199945.53449089, 295982.56624643, 171164.10904994, 226232.71937627,\n",
       "       170984.40412537, 170102.68956864, 217215.69807666, 114986.00105033,\n",
       "       169100.62689951, 218847.90530064, 142382.40249982, 117651.55788693,\n",
       "       160379.75520442, 194656.79776131, 341745.41614045,  91370.71117809,\n",
       "       115861.08057406,  88687.42416628, 140018.02319024, 283285.0284206 ,\n",
       "       139385.39985598, 260517.84472205, 156847.13778318, 180195.72901548,\n",
       "       261980.06771246, 175714.48837953, 297459.57850305, 159619.83322472,\n",
       "       221101.0505089 , 199737.10714357, 239729.69273133, 242832.1190264 ,\n",
       "       228688.69331454, 134955.64510153, 119803.65649671, 182488.77232684,\n",
       "        96646.09071869, 248223.40067483, 102365.89164381, 124342.69417661,\n",
       "       191269.86890905, 124874.06420604, 115901.68862522, 127513.49383719,\n",
       "       307920.24639147, 165596.90819761, 169643.44356326, 219058.72382204,\n",
       "       214570.65224885, 219877.13282735,  86029.75717534,  98792.10126843,\n",
       "       164795.30596026, 172690.70131905, 110003.31943195, 349224.30991185,\n",
       "       127036.87125619, 194892.25202486, 214045.83921363, 338306.20944954,\n",
       "       135376.86895909, 205561.79162838, 152264.03218846, 192148.59206143,\n",
       "       167897.86482001, 272541.49565857, 239244.79192309, 137804.4828517 ,\n",
       "       115218.22381909, 289949.87841199, 136495.1164853 , 115283.38941355,\n",
       "       118637.06870116, 227610.87958899, 206039.18482289, 216834.50344376,\n",
       "       120373.94142356, 164434.01843842, 179603.19485039, 273083.35829346,\n",
       "       225316.30130834, 139084.94035812, 181184.59487944, 185885.51039204,\n",
       "       167023.24529156, 128000.70272247, 133947.83244314, 156363.26262023,\n",
       "        78201.60506132, 234209.8504393 ,  81852.17857639, 210641.37333693,\n",
       "        99288.76206613, 305458.7332342 , 163656.76804956, 149287.82636102,\n",
       "       173837.73357373, 171067.21631306, 210050.35032018, 207144.11403893,\n",
       "       228012.08429147, 195873.65321828, 187885.87972421, 233572.64520602,\n",
       "       320058.31203542, 213674.9914728 , 187147.38390931, 216659.03373757,\n",
       "       129979.03253747, 101699.69876573, 105964.27654786])"
      ]
     },
     "execution_count": 39,
     "metadata": {},
     "output_type": "execute_result"
    }
   ],
   "source": [
    "lr.predict(kaggle_new_s)"
   ]
  },
  {
   "cell_type": "markdown",
   "metadata": {},
   "source": [
    "# What Did We Just Do >:(\n",
    "\n",
    "1. Imported the data and did a train-test split WITH A RANDOM STATE FOR REPORDUCIBILITY OF RESULTS *AND* MINIMIZATION OF HEADACHES\n",
    "2. To simulate the process of building a model on known data and testing it on unknown data, we examined correlations just among the training data.\n",
    "3. We cleaned the training data\n",
    "    - Optional: dummies\n",
    "4. We fit a scaler to the training data.\n",
    "5. We transformed the training data.\n",
    "6. We cleaned the testing data\n",
    "7. We transformed the testing data with the scaler fit on the training data\n",
    "8. We fit a model to the training data\n",
    "9. We scored the model on the training and testing data.\n",
    "10. **Because the model preformed reasonably well**, we went a head and refit it on **all** of the `train.csv` data, including fitting a scaler to all of the train data.\n",
    "11. We cleaned and transformed the kaggle data.\n",
    "12. We used our model trained on all the data to make predictions off the kaggle `test.csv`"
   ]
  },
  {
   "cell_type": "markdown",
   "metadata": {},
   "source": [
    "# Now with 110% more Pipelines...Nutritious\n",
    "\n",
    "- Curren `X_train` has not been standardized, so we'll be putting that inside our pipeline"
   ]
  },
  {
   "cell_type": "code",
   "execution_count": 40,
   "metadata": {},
   "outputs": [],
   "source": [
    "from sklearn.pipeline import Pipeline\n",
    "from sklearn.linear_model import LassoCV, Lasso"
   ]
  },
  {
   "cell_type": "code",
   "execution_count": 43,
   "metadata": {},
   "outputs": [],
   "source": [
    "pipe = Pipeline([\n",
    "    ('ss', StandardScaler()),\n",
    "    ('lcv', LassoCV(n_alphas=500))\n",
    "])"
   ]
  },
  {
   "cell_type": "code",
   "execution_count": 44,
   "metadata": {},
   "outputs": [
    {
     "ename": "ValueError",
     "evalue": "X and y have inconsistent dimensions (1 != 1538)",
     "output_type": "error",
     "traceback": [
      "\u001b[0;31m---------------------------------------------------------------------------\u001b[0m",
      "\u001b[0;31mValueError\u001b[0m                                Traceback (most recent call last)",
      "\u001b[0;32m<ipython-input-44-62f05099a2d9>\u001b[0m in \u001b[0;36m<module>\u001b[0;34m()\u001b[0m\n\u001b[0;32m----> 1\u001b[0;31m \u001b[0mpipe\u001b[0m\u001b[0;34m.\u001b[0m\u001b[0mfit\u001b[0m\u001b[0;34m(\u001b[0m\u001b[0mX_train\u001b[0m\u001b[0;34m,\u001b[0m \u001b[0my_train\u001b[0m\u001b[0;34m)\u001b[0m\u001b[0;34m\u001b[0m\u001b[0m\n\u001b[0m",
      "\u001b[0;32m/anaconda3/envs/dsi/lib/python3.6/site-packages/sklearn/pipeline.py\u001b[0m in \u001b[0;36mfit\u001b[0;34m(self, X, y, **fit_params)\u001b[0m\n\u001b[1;32m    248\u001b[0m         \u001b[0mXt\u001b[0m\u001b[0;34m,\u001b[0m \u001b[0mfit_params\u001b[0m \u001b[0;34m=\u001b[0m \u001b[0mself\u001b[0m\u001b[0;34m.\u001b[0m\u001b[0m_fit\u001b[0m\u001b[0;34m(\u001b[0m\u001b[0mX\u001b[0m\u001b[0;34m,\u001b[0m \u001b[0my\u001b[0m\u001b[0;34m,\u001b[0m \u001b[0;34m**\u001b[0m\u001b[0mfit_params\u001b[0m\u001b[0;34m)\u001b[0m\u001b[0;34m\u001b[0m\u001b[0m\n\u001b[1;32m    249\u001b[0m         \u001b[0;32mif\u001b[0m \u001b[0mself\u001b[0m\u001b[0;34m.\u001b[0m\u001b[0m_final_estimator\u001b[0m \u001b[0;32mis\u001b[0m \u001b[0;32mnot\u001b[0m \u001b[0;32mNone\u001b[0m\u001b[0;34m:\u001b[0m\u001b[0;34m\u001b[0m\u001b[0m\n\u001b[0;32m--> 250\u001b[0;31m             \u001b[0mself\u001b[0m\u001b[0;34m.\u001b[0m\u001b[0m_final_estimator\u001b[0m\u001b[0;34m.\u001b[0m\u001b[0mfit\u001b[0m\u001b[0;34m(\u001b[0m\u001b[0mXt\u001b[0m\u001b[0;34m,\u001b[0m \u001b[0my\u001b[0m\u001b[0;34m,\u001b[0m \u001b[0;34m**\u001b[0m\u001b[0mfit_params\u001b[0m\u001b[0;34m)\u001b[0m\u001b[0;34m\u001b[0m\u001b[0m\n\u001b[0m\u001b[1;32m    251\u001b[0m         \u001b[0;32mreturn\u001b[0m \u001b[0mself\u001b[0m\u001b[0;34m\u001b[0m\u001b[0m\n\u001b[1;32m    252\u001b[0m \u001b[0;34m\u001b[0m\u001b[0m\n",
      "\u001b[0;32m/anaconda3/envs/dsi/lib/python3.6/site-packages/sklearn/linear_model/coordinate_descent.py\u001b[0m in \u001b[0;36mfit\u001b[0;34m(self, X, y)\u001b[0m\n\u001b[1;32m   1137\u001b[0m         \u001b[0;32mif\u001b[0m \u001b[0mX\u001b[0m\u001b[0;34m.\u001b[0m\u001b[0mshape\u001b[0m\u001b[0;34m[\u001b[0m\u001b[0;36m0\u001b[0m\u001b[0;34m]\u001b[0m \u001b[0;34m!=\u001b[0m \u001b[0my\u001b[0m\u001b[0;34m.\u001b[0m\u001b[0mshape\u001b[0m\u001b[0;34m[\u001b[0m\u001b[0;36m0\u001b[0m\u001b[0;34m]\u001b[0m\u001b[0;34m:\u001b[0m\u001b[0;34m\u001b[0m\u001b[0m\n\u001b[1;32m   1138\u001b[0m             raise ValueError(\"X and y have inconsistent dimensions (%d != %d)\"\n\u001b[0;32m-> 1139\u001b[0;31m                              % (X.shape[0], y.shape[0]))\n\u001b[0m\u001b[1;32m   1140\u001b[0m \u001b[0;34m\u001b[0m\u001b[0m\n\u001b[1;32m   1141\u001b[0m         \u001b[0;31m# All LinearModelCV parameters except 'cv' are acceptable\u001b[0m\u001b[0;34m\u001b[0m\u001b[0;34m\u001b[0m\u001b[0m\n",
      "\u001b[0;31mValueError\u001b[0m: X and y have inconsistent dimensions (1 != 1538)"
     ]
    }
   ],
   "source": [
    "pipe.fit(X_train, y_train)"
   ]
  },
  {
   "cell_type": "code",
   "execution_count": 45,
   "metadata": {},
   "outputs": [],
   "source": [
    "kaggle_test = kaggle[top_corr].fillna(0.0)"
   ]
  },
  {
   "cell_type": "code",
   "execution_count": 46,
   "metadata": {},
   "outputs": [
    {
     "data": {
      "text/plain": [
       "Index(['Overall Qual', 'Gr Liv Area', 'Garage Cars', 'Garage Area',\n",
       "       'Total Bsmt SF', '1st Flr SF', 'Year Built', 'Year Remod/Add',\n",
       "       'Full Bath', 'Mas Vnr Area'],\n",
       "      dtype='object')"
      ]
     },
     "execution_count": 46,
     "metadata": {},
     "output_type": "execute_result"
    }
   ],
   "source": [
    "X_train.columns"
   ]
  },
  {
   "cell_type": "code",
   "execution_count": 47,
   "metadata": {},
   "outputs": [
    {
     "data": {
      "text/plain": [
       "Index(['Overall Qual', 'Gr Liv Area', 'Garage Cars', 'Garage Area',\n",
       "       'Total Bsmt SF', '1st Flr SF', 'Year Built', 'Year Remod/Add',\n",
       "       'Full Bath', 'Mas Vnr Area'],\n",
       "      dtype='object')"
      ]
     },
     "execution_count": 47,
     "metadata": {},
     "output_type": "execute_result"
    }
   ],
   "source": [
    "kaggle_test.columns"
   ]
  },
  {
   "cell_type": "code",
   "execution_count": 49,
   "metadata": {},
   "outputs": [
    {
     "data": {
      "text/plain": [
       "Pipeline(memory=None,\n",
       "     steps=[('ss', StandardScaler(copy=True, with_mean=True, with_std=True)), ('lcv', LassoCV(alphas=None, copy_X=True, cv=None, eps=0.001, fit_intercept=True,\n",
       "    max_iter=1000, n_alphas=500, n_jobs=1, normalize=False, positive=False,\n",
       "    precompute='auto', random_state=None, selection='cyclic', tol=0.0001,\n",
       "    verbose=False))])"
      ]
     },
     "execution_count": 49,
     "metadata": {},
     "output_type": "execute_result"
    }
   ],
   "source": [
    "pipe.fit(X[top_corr].fillna(0.0), y)"
   ]
  },
  {
   "cell_type": "code",
   "execution_count": 50,
   "metadata": {},
   "outputs": [
    {
     "data": {
      "text/plain": [
       "array([161047.2670081 , 205707.2927312 , 192967.37147042, 129722.10336269,\n",
       "       183639.02414374,  88568.85418855, 111963.65685494, 143522.95432048,\n",
       "       210520.09913919, 170341.89465609, 174605.05615828, 144796.18158494,\n",
       "       166095.48182682, 281505.81194031, 167028.81715197, 133420.63706697,\n",
       "       161480.85650196, 117723.56513628, 204404.27118856, 201505.30829675,\n",
       "       131329.6891442 , 122644.64306766, 206348.21298578, 147914.50879605,\n",
       "       205138.78229397, 111077.2689485 , 134123.3176648 , 132886.30349633,\n",
       "       152560.36619896,  21637.69416154, 101730.51203929,  99190.22140726,\n",
       "       259096.76422851, 150629.27197656, 229867.73394697, 192714.51498806,\n",
       "       119828.747668  ,  81972.61553149, 112885.78883031, 212873.13593637,\n",
       "       168918.37654183, 214275.31655086, 161537.19176898, 147595.96679984,\n",
       "       226817.83940534, 100225.29433351, 223002.44364574, 110994.09767883,\n",
       "       121099.39315624, 117826.47527179, 107044.96650528, 231017.96757264,\n",
       "       273299.79509368, 128700.50020308, 115420.19486088, 159911.35482853,\n",
       "       175938.25109835, 146263.63524334, 184539.90765156, 233741.86935764,\n",
       "       312050.70904063, 123248.18632037, 150707.54904885, 189160.24853037,\n",
       "       176851.87977349, 315494.60503713,  74588.30923067, 199955.35100715,\n",
       "        49773.91233029, 157939.04738761,  81010.64738561, 293845.67489074,\n",
       "       203025.80570788, 184868.98426496, 130196.55606108, 214982.20442818,\n",
       "       508497.71155858, 164981.44488549, 159813.71344621,  90068.15964929,\n",
       "       321542.06100794, 222271.06563591, 135032.21876146, 127996.34621342,\n",
       "       118564.88611604, 181267.48678921, 328100.69787922, 120931.45903866,\n",
       "       190304.40231972, 269137.64246382, 174024.57707339, 125627.83503372,\n",
       "       104328.01516386, 144154.34509686, 212465.73958578, 121578.0953303 ,\n",
       "       145923.59056479, 148736.03528078, 254104.8207446 , 190417.83793428,\n",
       "       224782.92760926, 273191.48161928, 202054.712477  , 118130.99089505,\n",
       "       390410.04653135, 149820.22383154,  95467.48241056, 172866.02206105,\n",
       "       202866.28726627, 214978.89330383, 145906.19464896, 199924.57802119,\n",
       "       242978.79775743, 114341.65642423, 132094.00739137, 218356.64623385,\n",
       "       440568.50376338, 154220.78691473, 139342.65091207, 308073.72612913,\n",
       "       184728.03603048, 367670.71921305, 291093.59481141, 285550.21582317,\n",
       "       171113.05054979, 132178.61217094, 326704.38950323, 108972.00942507,\n",
       "       125498.36632725, 114555.19843774, 289367.01095141, 134156.43271791,\n",
       "       185950.60427806, 136527.99576209, 166463.36930544, 183860.58597358,\n",
       "       228759.00615509, 217038.34896096, 196406.0106024 , 199955.35100715,\n",
       "       110277.98037229, 190828.74907703, 126767.65610493, 142477.60455605,\n",
       "       176306.087438  ,  95751.87522055, 168198.11098995, 167349.37617924,\n",
       "       152713.00574428,  59344.10729364, 228616.16939096, 212020.58902986,\n",
       "       155364.81184497, 131031.26692609, 108483.55934444, 104231.79870308,\n",
       "       122148.42573827,  73505.12568617, 140509.82795242, 239997.26963938,\n",
       "       284601.37913497, 206721.85500258, 120686.37155724, 129489.77347488,\n",
       "       396706.98197397, 279297.52611173, 277926.57092813, 176573.14525096,\n",
       "       195301.23596632, 239415.20182822, 218490.53015833, 439578.48241593,\n",
       "       140539.50025858, 173932.4555497 , 180001.4341118 , 210938.06318002,\n",
       "       178579.77279505,  77499.82778687, 208370.44095229,  87555.24583343,\n",
       "       131474.86391782, 113614.75536781, 218094.67676976, 238774.0161316 ,\n",
       "       195800.1035643 , 177579.38271434, 123310.18586573, 194651.09689461,\n",
       "       207552.69405446, 120638.96995529,  63730.93234431, 193453.07435156,\n",
       "       114198.99183108, 125034.10847551, 104016.0356664 , 176196.43308757,\n",
       "       145071.38429976, 269272.16847268, 122629.78049275, 138883.18386908,\n",
       "       125678.45469458, 305790.20577625, 218265.96662744, 130552.05555452,\n",
       "       188446.20007348, 145528.92587839,  83945.61520307, 164232.88414675,\n",
       "       152463.63469618, 238729.22100708, 214753.78839098, 188913.26867305,\n",
       "       195256.56445232, 109828.66976326, 242642.07720581, 271512.25946483,\n",
       "       204045.0948061 , 232652.73744459, 163151.86408742,  61004.99645354,\n",
       "       129434.82854445, 199964.03262472, 160386.02426535, 188862.60794091,\n",
       "       175661.75311165, 122876.99666597, 103245.79120516, 269335.21361378,\n",
       "       232265.35877063, 133162.76859074, 297049.59417645, 148881.75485438,\n",
       "        58567.9506562 , 140516.19648115,  76275.415427  , 291074.31670742,\n",
       "       168938.28137997,  89492.71144285, 362887.75864798, 310178.29366247,\n",
       "       211053.24246295, 251375.07850066, 175782.51444247, 289333.70500903,\n",
       "       243617.0922955 , 312597.77916822, 281694.34989037, 128533.44129624,\n",
       "        93933.79189609, 195480.94371362, 306116.27154947, 268322.59197845,\n",
       "       166177.66737264, 244477.58879995, 230252.01267535, 189932.70470449,\n",
       "        62234.66293684,  80229.07989693, 366346.46581175, 217198.60467835,\n",
       "       266259.8875052 , 183260.45951704, 142862.02555045, 146992.16113359,\n",
       "       155019.03747044, 221050.0002619 , 190128.05836024, 134186.7150105 ,\n",
       "       209801.02721093, 180012.83429829, 167763.00855899, 207009.58998367,\n",
       "       206074.04708314, 179431.65312747, 345969.86442962, 102748.24940343,\n",
       "       132436.13130641, 158308.2310019 , 166568.44951404, 103726.24766744,\n",
       "       115912.55986743, 248687.23930861, 137370.72037448, 112785.35710143,\n",
       "       102263.99909616, 137517.33984785, 212704.91492428, 187106.61382224,\n",
       "       136281.27895997, 114389.96739979, 131291.21970104, 106077.81736331,\n",
       "       168666.76497784,  90596.07089878,  93722.45677107, 162730.29802148,\n",
       "       157939.04738761, 226823.01865683, 242281.02304142, 242664.81859214,\n",
       "       154985.0611313 , 191744.07044454, 307032.69849597, 136831.40888022,\n",
       "       158619.72978745,  81047.50182112,  98560.87855149, 177583.49915086,\n",
       "       212844.64569475, 131705.04211632, 117680.28273203, 189412.06749159,\n",
       "       230319.89319443, 242415.85128041, 280033.83261513, 131520.91343136,\n",
       "       318017.69596983, 320078.18722301, 251170.09239805, 243751.54310057,\n",
       "       119207.64529875,  49081.51131496, 113810.5324703 , 132374.57040966,\n",
       "       273433.35492904, 126052.01793162, 146781.35058668, 157917.89362351,\n",
       "       195001.99981896, 202300.99476063, 138373.90082479, 210983.50411026,\n",
       "       187625.42099779, 172064.94936687, 208987.10855965, 106024.68833118,\n",
       "       166051.99768035,  85066.05348271, 102470.66169298, 138856.60990421,\n",
       "       175645.20238177, 185103.88707969,  97997.71134799, 116278.6965109 ,\n",
       "       189357.43325321, 279564.28387653, 239068.41445555, 185634.68175088,\n",
       "       109208.32922772, 194927.67362612, 145088.82443643, 181859.82689982,\n",
       "       163899.62266232, 146333.01125311, 269493.84213486, 121499.78439125,\n",
       "       283226.91760608, 170974.65356711, 219484.71949142, 257053.9086654 ,\n",
       "       123496.46926178, 143404.70146009, 147353.30363393,  97817.38695297,\n",
       "       197617.003961  , 222598.3337978 , 270041.75462662, 196880.51574274,\n",
       "       197942.07274449, 225085.88114061,  97442.82378459, 254854.75773407,\n",
       "       139202.41658739, 164237.87214819, 361222.50625285, 125679.24281424,\n",
       "       276967.69250623, 168223.45635296, 257015.75016319, 220391.01499532,\n",
       "       133415.05187576, 152142.86022265, 173890.19274622, 311042.73322126,\n",
       "       290147.25428696, 214562.14730446, 184079.40259333, 186420.09992129,\n",
       "       187111.74778229, 135377.74255549, 142331.13962878, 126570.49532646,\n",
       "       261320.30244472, 173754.98121696, 116658.65648069, 216769.26027725,\n",
       "        50674.74359635, 189178.50933705, 173847.39008052, 127721.03537245,\n",
       "        99501.33520816, 226580.79157449, 238397.64645757, 105761.37695671,\n",
       "       285088.88240522, 146547.86616784, 116081.28074666, 134573.17958213,\n",
       "       228587.73744214, 261930.05846036, 127508.13165971, 142153.99650387,\n",
       "       145584.31730396, 260598.83077786, 147559.9652757 , 269996.73995526,\n",
       "       322629.96855103, 110054.2339332 , 254297.35404404, 103255.05358099,\n",
       "       186629.40678211, 251329.66376029, 114668.68530577, 246898.88486099,\n",
       "       131781.1229207 , 244975.86953792, 348962.74583958, 208841.52473384,\n",
       "       217887.36958722, 156297.64503131, 290193.85871955, 109237.63992584,\n",
       "       136871.0976561 , 130404.30655109, 202175.58824531, 100650.66560049,\n",
       "       296820.80779006, 215549.52063954, 180232.9405203 , 172809.75406549,\n",
       "       186886.8608853 , 211790.1205327 , 140260.41295791, 137195.64090863,\n",
       "       168896.87983242, 167083.11477701, 167342.59362237,  47188.90173823,\n",
       "        63913.81846963, 288511.77911458, 132225.6253514 , 213119.15965402,\n",
       "       282909.30713467, 218475.74706591, 184320.53190688, 204416.72134929,\n",
       "       237603.96587881, 220644.01958085, 114015.91122866, 233050.04849455,\n",
       "       126143.62018228, 151635.21865209, 127548.04164475, 158442.32184713,\n",
       "       478913.8158731 , 119122.6685754 , 217267.58118119, 217133.39415596,\n",
       "       250406.95884345, 125346.31298726, 109771.17619473, 127054.78867705,\n",
       "       256446.13910813, 169672.00973862, 111608.1125924 , 248133.2224914 ,\n",
       "       246726.27347517, 111187.04853756, 155652.57750191, 104704.33574635,\n",
       "       186341.09217432,  67494.51918159, 246507.11754429,  76880.40347497,\n",
       "       191026.76169077, 289587.23080743, 147624.94585415, 158776.94875372,\n",
       "       189463.16089788, 199071.04385824, 141528.3254168 , 168354.24512421,\n",
       "       228185.06710212, 194099.57772313, 225655.35487348, 307280.30333825,\n",
       "       212045.25369704, 109881.91200392, 126460.24738624, 177203.47588811,\n",
       "       114119.17336661, 174128.06458591, 257954.29448715, 187746.9027826 ,\n",
       "       175827.04378913, 228006.97153601, 125830.91721005, 262855.02754962,\n",
       "       114233.83865823, 117365.26279633, 269105.23981481, 111272.84669368,\n",
       "       143781.55613123, 131838.09033205, 136812.237034  ,   6291.54297865,\n",
       "       194442.45068078, 153700.50267245, 194140.76874032, 278978.8572665 ,\n",
       "       274609.93779111, 117459.94820234, 140986.20271081, 129952.7444006 ,\n",
       "       118004.4343103 , 231989.90932965, 362257.00085445, 194562.08492958,\n",
       "       123230.05077157, 128062.61516921,   1847.54250551, 149496.69368009,\n",
       "       187450.1585337 , 163705.33173148, 211278.95163105, 164040.16913604,\n",
       "       141152.17762747,  73505.12568617, 222283.48652445, 151315.63496484,\n",
       "       189259.76100692, 153450.09594086,  88369.18245564,  71604.46244834,\n",
       "       161159.87090051, 232625.90831865, 299924.32460693, 232755.97294191,\n",
       "        98004.33594775, 132336.35384741, 277817.00578711, 116909.36621547,\n",
       "       304856.10238525,  90809.14121053, 177450.67626137, 229722.08765231,\n",
       "        75725.6439782 , 132551.89940042, 165650.43754838, 126106.69054782,\n",
       "       162807.34980094, 114435.97761706, 188813.68134615, 176617.08757969,\n",
       "       141059.65154743, 155334.27347247, 118146.12798674, 129195.72258207,\n",
       "       233313.98271433, 129392.95847793, 148026.13105409, 175184.07337881,\n",
       "       119438.96793146,  84979.9743758 , 141215.75732412, 186434.74060332,\n",
       "       129017.99450996, 185142.21333612, 158776.94875372, 217934.21872034,\n",
       "       115499.52368903, 176115.42980765, 151626.06942386, 280625.74993962,\n",
       "       100801.49407745, 165398.28431071, 159392.34207703, 148982.09546829,\n",
       "       114437.90479219, 281429.37329726, 223124.24533207, 125772.66897197,\n",
       "        89420.1419369 , 139041.98093285, 133094.53176321, 321328.19395052,\n",
       "       223329.02081089, 116576.77815689, 139424.56105048, 113073.59784655,\n",
       "       310655.37711503, 132763.71187114, 220667.74660151, 121332.49313957,\n",
       "       175059.34223433, 231542.09183717,  84831.04946856, 121431.05328322,\n",
       "       102375.39672744, 182575.6212534 , 113038.33092459,  98809.85323714,\n",
       "       330489.04167122, 220015.45798109, 113689.36945715, 147065.73592137,\n",
       "        10165.56211773, 208061.22170777, 273388.61168786,  74618.44772499,\n",
       "       183987.3964834 , 211118.79707005, 145766.64932421, 158531.99382289,\n",
       "       109487.36277009, 148967.33512077, 191735.91130072, 199345.25877722,\n",
       "       130307.08343582, 312480.64495445, 150587.22304214, 198217.95789979,\n",
       "       202886.5501606 , 110616.74342775,  49778.99261569, 146920.16450196,\n",
       "       218960.89239693, 192255.39350011, 187666.1982983 , 134011.39687581,\n",
       "       149666.82165174, 291618.15273462, 125973.74294934, 201342.05710489,\n",
       "       262544.72970948, 151830.35571768,  57293.77849818, 270449.15227808,\n",
       "       189282.92499207, 167360.4890497 , 186500.60234773, 136523.58813102,\n",
       "       113864.36409694, 104982.42186269, 150850.42031412,  37239.01079111,\n",
       "       148246.84704625, 215509.43656301, 162820.76176398, 250788.55769207,\n",
       "       199909.2147338 , 166112.11560291, 192900.84914983, 201780.60286731,\n",
       "       235229.78654534, 349283.46170364, 247492.78139472, 219885.88295625,\n",
       "       170207.24172798, 154850.26861804, 304230.68888906, 236208.01459796,\n",
       "       290006.43281846, 222203.0887446 , 135930.38586128, 111767.22800951,\n",
       "       147180.71317756, 153900.82045868,  89075.65836611, 140926.76257034,\n",
       "       104988.31425038, 327288.07502315, 211090.63610282, 186896.08221915,\n",
       "       264582.31207041, 191110.33897389, 167743.91349529, 219494.29469377,\n",
       "       323493.77575543, 121181.70546512, 200843.95249175,  60571.3096087 ,\n",
       "       110298.7434058 , 222548.05091289, 123120.70497921, 207221.26712176,\n",
       "       171876.24840966, 215770.71044988, 296845.58768989,  96376.51245037,\n",
       "       258963.27181156, 160148.06008009, 135801.22560052, 177361.84173654,\n",
       "       120036.88782072, 290606.03645848, 248256.00653582, 157059.64695626,\n",
       "       135304.42604883, 108524.82141133, 310702.49733859, 228115.97963874,\n",
       "        97518.24783617, 126559.44610956, 124630.55134873, 123326.76331901,\n",
       "       200188.12134518, 261932.21519948, 248224.60245331, 183282.17040145,\n",
       "       232706.79380122, 226525.3356339 , 280325.82421794, 129971.82544365,\n",
       "       128553.44259946, 284655.93927472, 190731.90952405, 210440.53486255,\n",
       "       108117.85208515, 275417.72846531,  73169.73184565, 234170.68149902,\n",
       "       204804.2373273 , 263956.49344518, 155701.30198239, 209171.42332402,\n",
       "       149143.51138493, 152413.94538783, 156917.85357072, 150647.69310057,\n",
       "       131429.63630779, 224868.72770789, 166662.00791427, 167208.33097239,\n",
       "       118073.50644701, 169066.46273089, 184354.18285607, 206767.10960715,\n",
       "       234769.78993237, 140928.42831432, 302550.11987524, 286429.97650887,\n",
       "       149800.13618606, 164588.5989008 , 182142.65457502, 114702.83443893,\n",
       "       146230.43261895, 374209.4621373 ,  80869.42956311, 155060.14714248,\n",
       "       237489.66946638, 137022.69732691, 231421.07679163, 134878.95693432,\n",
       "       213928.44535891, 180419.66965015, 290651.62251316, 194196.60642429,\n",
       "       201832.32269591, 292000.23515871, 173458.08163677, 224921.1147857 ,\n",
       "       175346.1582247 , 172851.34361304, 217084.49375689, 115603.33403404,\n",
       "       171677.0091873 , 217882.29593258, 141859.05456352, 122806.90372446,\n",
       "       162462.78272231, 194357.06137383, 340638.40952824,  93783.38272853,\n",
       "       115682.575894  ,  89793.58411175, 139641.62464021, 281694.34989037,\n",
       "       138321.51400029, 252104.80897946, 160171.78579076, 184778.42290507,\n",
       "       260744.94937199, 178008.60022616, 293726.23323673, 163168.09706727,\n",
       "       217982.98146191, 198028.4261426 , 239182.85687312, 242230.88446171,\n",
       "       228422.8178587 , 133933.62985893, 122895.62861056, 183809.53910638,\n",
       "        96617.76193228, 250081.90287179, 105715.90091836, 123927.84254039,\n",
       "       191874.17848746, 127121.19302376, 117571.60508919, 127731.69632001,\n",
       "       303459.75510097, 168377.061541  , 170629.27142604, 219164.95798899,\n",
       "       215082.16260249, 215482.81480354,  87863.46498255,  99622.10674043,\n",
       "       167187.33177542, 176593.9299805 , 111263.70032277, 343813.49604924,\n",
       "       132246.46157217, 196054.41224031, 214177.22629006, 338707.36944019,\n",
       "       133566.59249209, 207004.65577994, 150444.43719067, 193690.73196724,\n",
       "       166634.16521928, 270883.33726471, 239882.52064558, 139303.56561378,\n",
       "       116267.16782379, 287355.66478653, 134696.25683846, 115602.50153754,\n",
       "       118696.88499733, 227772.17352664, 206005.80302492, 207291.0310666 ,\n",
       "       120984.98281802, 166170.08323825, 177514.89480287, 271135.41362168,\n",
       "       224293.02628093, 137992.56719976, 183743.1813467 , 187029.5864446 ,\n",
       "       171084.52836526, 129593.50641729, 133151.5374151 , 161869.31874172,\n",
       "        84987.74933159, 235145.9326501 ,  82047.55549858, 210480.90226789,\n",
       "        99197.43999213, 302948.36467174, 162610.84630842, 146526.82328058,\n",
       "       170538.94546347, 162363.13380947, 210072.95487196, 207594.04895922,\n",
       "       227814.76792282, 205918.96471691, 189270.78863353, 232653.04158626,\n",
       "       315792.51460101, 214559.69012203, 188490.21470882, 215680.53890538,\n",
       "       129158.86228785, 101676.10893842, 108102.00439453])"
      ]
     },
     "execution_count": 50,
     "metadata": {},
     "output_type": "execute_result"
    }
   ],
   "source": [
    "pipe.predict(kaggle_test)"
   ]
  },
  {
   "cell_type": "code",
   "execution_count": null,
   "metadata": {},
   "outputs": [],
   "source": []
  }
 ],
 "metadata": {
  "kernelspec": {
   "display_name": "Python [conda env:dsi]",
   "language": "python",
   "name": "conda-env-dsi-py"
  },
  "language_info": {
   "codemirror_mode": {
    "name": "ipython",
    "version": 3
   },
   "file_extension": ".py",
   "mimetype": "text/x-python",
   "name": "python",
   "nbconvert_exporter": "python",
   "pygments_lexer": "ipython3",
   "version": "3.6.5"
  }
 },
 "nbformat": 4,
 "nbformat_minor": 2
}
